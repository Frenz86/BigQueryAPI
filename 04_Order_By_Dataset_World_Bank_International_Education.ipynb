{
  "nbformat": 4,
  "nbformat_minor": 0,
  "metadata": {
    "colab": {
      "name": "04 - Order By - Dataset World Bank International Education.ipynb",
      "provenance": [],
      "authorship_tag": "ABX9TyMXoKz1XgUTg0lnJAYLbr6U",
      "include_colab_link": true
    },
    "kernelspec": {
      "name": "python3",
      "display_name": "Python 3"
    },
    "language_info": {
      "name": "python"
    }
  },
  "cells": [
    {
      "cell_type": "markdown",
      "metadata": {
        "id": "view-in-github",
        "colab_type": "text"
      },
      "source": [
        "<a href=\"https://colab.research.google.com/github/mtpradoc/BigQueryAPI/blob/main/04_Order_By_Dataset_World_Bank_International_Education.ipynb\" target=\"_parent\"><img src=\"https://colab.research.google.com/assets/colab-badge.svg\" alt=\"Open In Colab\"/></a>"
      ]
    },
    {
      "cell_type": "markdown",
      "metadata": {
        "id": "naUMFtS3wRHr"
      },
      "source": [
        "\n",
        "#Programmatically connect to BigQuery"
      ]
    },
    {
      "cell_type": "markdown",
      "metadata": {
        "id": "GbXo5LTqdnCY"
      },
      "source": [
        "In order to use a public dataset (world_bank_intl_education) in BigQuery we need to programmatically authenticate to the google cloud platform"
      ]
    },
    {
      "cell_type": "markdown",
      "metadata": {
        "id": "HTwOOPvXwcYt"
      },
      "source": [
        "##1. Authenticate to GCP"
      ]
    },
    {
      "cell_type": "code",
      "metadata": {
        "id": "g0EXRSzURaAF"
      },
      "source": [
        "from google.colab import auth\n",
        "auth.authenticate_user()"
      ],
      "execution_count": null,
      "outputs": []
    },
    {
      "cell_type": "markdown",
      "metadata": {
        "id": "1ysOGfateBSa"
      },
      "source": [
        "Let's specify which project_id we are going to use. It can be any"
      ]
    },
    {
      "cell_type": "code",
      "metadata": {
        "id": "AjMekpvoXD0r"
      },
      "source": [
        "project_id = 'hazel-env-310501'"
      ],
      "execution_count": null,
      "outputs": []
    },
    {
      "cell_type": "markdown",
      "metadata": {
        "id": "3QfEKE8hw77L"
      },
      "source": [
        "##2. Connect to the BigQuery API"
      ]
    },
    {
      "cell_type": "code",
      "metadata": {
        "id": "WMEMSjFeU22y"
      },
      "source": [
        "from google.cloud import bigquery"
      ],
      "execution_count": null,
      "outputs": []
    },
    {
      "cell_type": "code",
      "metadata": {
        "id": "2O5UeyQ8R5jr"
      },
      "source": [
        "client = bigquery.Client(project=project_id)"
      ],
      "execution_count": null,
      "outputs": []
    },
    {
      "cell_type": "markdown",
      "metadata": {
        "id": "YRNTMmYYxI6_"
      },
      "source": [
        "##3. Access the Dataset (public or private)"
      ]
    },
    {
      "cell_type": "markdown",
      "metadata": {
        "id": "b1PgmGeedW8X"
      },
      "source": [
        "Let's put a reference for the dataset and project where the dataset we are going to work with"
      ]
    },
    {
      "cell_type": "code",
      "metadata": {
        "id": "kjFYjcZhSF9s"
      },
      "source": [
        "dataset_ref = client.dataset(\"world_bank_intl_education\", project=\"bigquery-public-data\")\n",
        "\n",
        "dataset = client.get_dataset(dataset_ref)"
      ],
      "execution_count": null,
      "outputs": []
    },
    {
      "cell_type": "markdown",
      "metadata": {
        "id": "sGS4czJVxfoe"
      },
      "source": [
        "##4. List your tables"
      ]
    },
    {
      "cell_type": "code",
      "metadata": {
        "id": "wMn4Outta2UV",
        "colab": {
          "base_uri": "https://localhost:8080/"
        },
        "outputId": "49422ace-b910-43c5-9a53-f92f8a9f6551"
      },
      "source": [
        "tables = list(client.list_tables(dataset))\n",
        "\n",
        "for table in tables:\n",
        "  print(table.table_id)"
      ],
      "execution_count": null,
      "outputs": [
        {
          "output_type": "stream",
          "text": [
            "country_series_definitions\n",
            "country_summary\n",
            "international_education\n",
            "series_summary\n"
          ],
          "name": "stdout"
        }
      ]
    },
    {
      "cell_type": "markdown",
      "metadata": {
        "id": "2Px5oFH73JU2"
      },
      "source": [
        "##5. Check the table schema"
      ]
    },
    {
      "cell_type": "code",
      "metadata": {
        "id": "xVFRnECKbjNf",
        "colab": {
          "base_uri": "https://localhost:8080/"
        },
        "outputId": "19b29a5c-56a4-4395-8e28-1fa9a1c29b22"
      },
      "source": [
        "table_ref = dataset_ref.table(\"international_education\")\n",
        "\n",
        "table = client.get_table(table_ref)\n",
        "\n",
        "table.schema"
      ],
      "execution_count": null,
      "outputs": [
        {
          "output_type": "execute_result",
          "data": {
            "text/plain": [
              "[SchemaField('country_name', 'STRING', 'NULLABLE', '', ()),\n",
              " SchemaField('country_code', 'STRING', 'NULLABLE', '', ()),\n",
              " SchemaField('indicator_name', 'STRING', 'NULLABLE', '', ()),\n",
              " SchemaField('indicator_code', 'STRING', 'NULLABLE', '', ()),\n",
              " SchemaField('value', 'FLOAT', 'NULLABLE', '', ()),\n",
              " SchemaField('year', 'INTEGER', 'NULLABLE', '', ())]"
            ]
          },
          "metadata": {
            "tags": []
          },
          "execution_count": 12
        }
      ]
    },
    {
      "cell_type": "markdown",
      "metadata": {
        "id": "voMcORAMxrMU"
      },
      "source": [
        "##5. Show your data in a dataframe"
      ]
    },
    {
      "cell_type": "code",
      "metadata": {
        "id": "ojE0uYhbblez",
        "colab": {
          "base_uri": "https://localhost:8080/",
          "height": 238
        },
        "outputId": "b9e0c16e-cee3-43b0-c6ad-141143177151"
      },
      "source": [
        "client.list_rows(table, max_results=5).to_dataframe()"
      ],
      "execution_count": null,
      "outputs": [
        {
          "output_type": "execute_result",
          "data": {
            "text/html": [
              "<div>\n",
              "<style scoped>\n",
              "    .dataframe tbody tr th:only-of-type {\n",
              "        vertical-align: middle;\n",
              "    }\n",
              "\n",
              "    .dataframe tbody tr th {\n",
              "        vertical-align: top;\n",
              "    }\n",
              "\n",
              "    .dataframe thead th {\n",
              "        text-align: right;\n",
              "    }\n",
              "</style>\n",
              "<table border=\"1\" class=\"dataframe\">\n",
              "  <thead>\n",
              "    <tr style=\"text-align: right;\">\n",
              "      <th></th>\n",
              "      <th>country_name</th>\n",
              "      <th>country_code</th>\n",
              "      <th>indicator_name</th>\n",
              "      <th>indicator_code</th>\n",
              "      <th>value</th>\n",
              "      <th>year</th>\n",
              "    </tr>\n",
              "  </thead>\n",
              "  <tbody>\n",
              "    <tr>\n",
              "      <th>0</th>\n",
              "      <td>Palau</td>\n",
              "      <td>PLW</td>\n",
              "      <td>Net enrolment rate, primary, both sexes (%)</td>\n",
              "      <td>SE.PRM.NENR</td>\n",
              "      <td>8.001433e+01</td>\n",
              "      <td>2016</td>\n",
              "    </tr>\n",
              "    <tr>\n",
              "      <th>1</th>\n",
              "      <td>Turkmenistan</td>\n",
              "      <td>TKM</td>\n",
              "      <td>Population of the official age for pre-primary...</td>\n",
              "      <td>SP.PRE.TOTL.IN</td>\n",
              "      <td>3.054040e+05</td>\n",
              "      <td>2016</td>\n",
              "    </tr>\n",
              "    <tr>\n",
              "      <th>2</th>\n",
              "      <td>Uzbekistan</td>\n",
              "      <td>UZB</td>\n",
              "      <td>Percentage of teachers in primary education wh...</td>\n",
              "      <td>SE.PRM.TCHR.FE.ZS</td>\n",
              "      <td>9.076502e+01</td>\n",
              "      <td>2016</td>\n",
              "    </tr>\n",
              "    <tr>\n",
              "      <th>3</th>\n",
              "      <td>Uzbekistan</td>\n",
              "      <td>UZB</td>\n",
              "      <td>Population of the official age for pre-primary...</td>\n",
              "      <td>SP.PRE.TOTL.IN</td>\n",
              "      <td>2.440150e+06</td>\n",
              "      <td>2016</td>\n",
              "    </tr>\n",
              "    <tr>\n",
              "      <th>4</th>\n",
              "      <td>Georgia</td>\n",
              "      <td>GEO</td>\n",
              "      <td>Theoretical duration of lower secondary educat...</td>\n",
              "      <td>SE.SEC.DURS.LO</td>\n",
              "      <td>3.000000e+00</td>\n",
              "      <td>2016</td>\n",
              "    </tr>\n",
              "  </tbody>\n",
              "</table>\n",
              "</div>"
            ],
            "text/plain": [
              "   country_name country_code  ...         value  year\n",
              "0         Palau          PLW  ...  8.001433e+01  2016\n",
              "1  Turkmenistan          TKM  ...  3.054040e+05  2016\n",
              "2    Uzbekistan          UZB  ...  9.076502e+01  2016\n",
              "3    Uzbekistan          UZB  ...  2.440150e+06  2016\n",
              "4       Georgia          GEO  ...  3.000000e+00  2016\n",
              "\n",
              "[5 rows x 6 columns]"
            ]
          },
          "metadata": {
            "tags": []
          },
          "execution_count": 13
        }
      ]
    },
    {
      "cell_type": "code",
      "metadata": {
        "id": "7vsy2nLabxS4"
      },
      "source": [
        ""
      ],
      "execution_count": null,
      "outputs": []
    },
    {
      "cell_type": "markdown",
      "metadata": {
        "id": "pyu2g_hV5u73"
      },
      "source": [
        "##6. Explore your data"
      ]
    },
    {
      "cell_type": "markdown",
      "metadata": {
        "id": "ZisVfcMy5zc3"
      },
      "source": [
        "The value in the indicator_code column describes what type of data is shown in a given row.\n",
        "\n",
        "One interesting indicator code is SE.XPD.TOTL.GD.ZS, which corresponds to \"Government expenditure on education as % of GDP (%)\".\n",
        "\n",
        "Which countries spend the largest fraction of GDP on education?\n",
        "\n",
        "Which countries spend the largest fraction of GDP on education?\n",
        "\n",
        "To answer this question, consider only the rows in the dataset corresponding to indicator code SE.XPD.TOTL.GD.ZS, and write a query that returns the average value in the value column for each country in the dataset between the years 2010-2017 (including 2010 and 2017 in the average)."
      ]
    },
    {
      "cell_type": "code",
      "metadata": {
        "id": "jF9cteO45yrz",
        "colab": {
          "base_uri": "https://localhost:8080/"
        },
        "outputId": "3dfd588f-3e4b-42a3-dcf7-2a147bcaa5b5"
      },
      "source": [
        "country_spend_pct_query = \"\"\"\n",
        "                            SELECT country_name, AVG(value) AS avg_ed_spending_pct\n",
        "                            FROM `bigquery-public-data.world_bank_intl_education.international_education`\n",
        "                            WHERE indicator_code = 'SE.XPD.TOTL.GD.ZS' AND\n",
        "                              year BETWEEN 2010 AND 2017\n",
        "                            GROUP BY country_name\n",
        "                            ORDER BY AVG(value) DESC\n",
        "                            \"\"\"\n",
        "safe_config = bigquery.QueryJobConfig(maximum_bytes_billed=10**10)\n",
        "country_spend_pct_query_job = client.query(country_spend_pct_query, job_config=safe_config)\n",
        "\n",
        "country_spending_results = country_spend_pct_query_job.to_dataframe()\n",
        "\n",
        "print(country_spending_results.head())"
      ],
      "execution_count": null,
      "outputs": [
        {
          "output_type": "stream",
          "text": [
            "            country_name  avg_ed_spending_pct\n",
            "0                   Cuba            12.837270\n",
            "1  Micronesia, Fed. Sts.            12.467750\n",
            "2        Solomon Islands            10.001080\n",
            "3                Moldova             8.372153\n",
            "4                Namibia             8.349610\n"
          ],
          "name": "stdout"
        }
      ]
    },
    {
      "cell_type": "markdown",
      "metadata": {
        "id": "3j7vMtxu57no"
      },
      "source": [
        "The last question started by telling you to focus on rows with the code SE.XPD.TOTL.GD.ZS. But how would you find more interesting indicator codes to explore?\n",
        "\n",
        "There are 1000s of codes in the dataset, so it would be time consuming to review them all. But many codes are available for only a few countries. When browsing the options for different codes, you might restrict yourself to codes that are reported by many countries.\n",
        "\n",
        "Write a query below that selects the indicator code and indicator name for all codes with at least 175 rows in the year 2016."
      ]
    },
    {
      "cell_type": "code",
      "metadata": {
        "id": "pQQIH5OU5926",
        "colab": {
          "base_uri": "https://localhost:8080/"
        },
        "outputId": "b05942b2-9167-4ce3-e559-7e080fb3e1d5"
      },
      "source": [
        "code_count_query = \"\"\"\n",
        "                   SELECT indicator_code, indicator_name, COUNT(1) as num_rows\n",
        "                   FROM `bigquery-public-data.world_bank_intl_education.international_education`\n",
        "                   WHERE year = 2016\n",
        "                   GROUP BY indicator_code, indicator_name\n",
        "                   HAVING COUNT(1) >= 175\n",
        "                   ORDER BY COUNT(1) DESC\n",
        "                   \"\"\"\n",
        "safe_config = bigquery.QueryJobConfig(maximum_bytes_billed=10**10)\n",
        "code_count_query_job = client.query(code_count_query, job_config=safe_config)\n",
        "\n",
        "code_count_results = code_count_query_job.to_dataframe()\n",
        "\n",
        "print(code_count_results.head())"
      ],
      "execution_count": null,
      "outputs": [
        {
          "output_type": "stream",
          "text": [
            "      indicator_code                   indicator_name  num_rows\n",
            "0        SP.POP.GROW     Population growth (annual %)       232\n",
            "1        SP.POP.TOTL                Population, total       232\n",
            "2     IT.NET.USER.P2  Internet users (per 100 people)       223\n",
            "3     SP.POP.0014.TO     Population, ages 0-14, total       213\n",
            "4  SP.POP.TOTL.MA.ZS    Population, male (% of total)       213\n"
          ],
          "name": "stdout"
        }
      ]
    },
    {
      "cell_type": "code",
      "metadata": {
        "id": "sw6WbghgAbld"
      },
      "source": [
        ""
      ],
      "execution_count": null,
      "outputs": []
    }
  ]
}