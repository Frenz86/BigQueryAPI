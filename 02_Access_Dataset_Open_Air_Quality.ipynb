{
  "nbformat": 4,
  "nbformat_minor": 0,
  "metadata": {
    "colab": {
      "name": "02 - Access - Dataset Open Air Quality.ipynb",
      "provenance": [],
      "authorship_tag": "ABX9TyPUXgWRf5CkvY0PKBHsvV38",
      "include_colab_link": true
    },
    "kernelspec": {
      "name": "python3",
      "display_name": "Python 3"
    },
    "language_info": {
      "name": "python"
    }
  },
  "cells": [
    {
      "cell_type": "markdown",
      "metadata": {
        "id": "view-in-github",
        "colab_type": "text"
      },
      "source": [
        "<a href=\"https://colab.research.google.com/github/mtpradoc/BigQueryAPI/blob/main/02_Access_Dataset_Open_Air_Quality.ipynb\" target=\"_parent\"><img src=\"https://colab.research.google.com/assets/colab-badge.svg\" alt=\"Open In Colab\"/></a>"
      ]
    },
    {
      "cell_type": "markdown",
      "metadata": {
        "id": "naUMFtS3wRHr"
      },
      "source": [
        "\n",
        "#Programmatically connect to BigQuery"
      ]
    },
    {
      "cell_type": "markdown",
      "metadata": {
        "id": "GbXo5LTqdnCY"
      },
      "source": [
        "In order to use a public dataset openaq (Open Air Quality) in BigQuery we need to programmatically authenticate to the google cloud platform"
      ]
    },
    {
      "cell_type": "markdown",
      "metadata": {
        "id": "HTwOOPvXwcYt"
      },
      "source": [
        "##1. Authenticate to GCP"
      ]
    },
    {
      "cell_type": "code",
      "metadata": {
        "id": "g0EXRSzURaAF"
      },
      "source": [
        "from google.colab import auth\n",
        "auth.authenticate_user()"
      ],
      "execution_count": null,
      "outputs": []
    },
    {
      "cell_type": "markdown",
      "metadata": {
        "id": "1ysOGfateBSa"
      },
      "source": [
        "Let's specify which project_id we are going to use. It can be any"
      ]
    },
    {
      "cell_type": "code",
      "metadata": {
        "id": "AjMekpvoXD0r"
      },
      "source": [
        "project_id = 'hazel-env-310501'"
      ],
      "execution_count": null,
      "outputs": []
    },
    {
      "cell_type": "markdown",
      "metadata": {
        "id": "3QfEKE8hw77L"
      },
      "source": [
        "##2. Connect to the BigQuery API"
      ]
    },
    {
      "cell_type": "code",
      "metadata": {
        "id": "WMEMSjFeU22y"
      },
      "source": [
        "from google.cloud import bigquery"
      ],
      "execution_count": null,
      "outputs": []
    },
    {
      "cell_type": "code",
      "metadata": {
        "id": "2O5UeyQ8R5jr"
      },
      "source": [
        "client = bigquery.Client(project=project_id)"
      ],
      "execution_count": null,
      "outputs": []
    },
    {
      "cell_type": "markdown",
      "metadata": {
        "id": "YRNTMmYYxI6_"
      },
      "source": [
        "##3. Access the Dataset (public or private)"
      ]
    },
    {
      "cell_type": "markdown",
      "metadata": {
        "id": "b1PgmGeedW8X"
      },
      "source": [
        "Let's put a reference for the dataset and project where the dataset we are going to work with"
      ]
    },
    {
      "cell_type": "code",
      "metadata": {
        "id": "kjFYjcZhSF9s"
      },
      "source": [
        "dataset_ref = client.dataset(\"openaq\", project=\"bigquery-public-data\")\n",
        "\n",
        "dataset = client.get_dataset(dataset_ref)"
      ],
      "execution_count": null,
      "outputs": []
    },
    {
      "cell_type": "markdown",
      "metadata": {
        "id": "sGS4czJVxfoe"
      },
      "source": [
        "##4. List your tables"
      ]
    },
    {
      "cell_type": "code",
      "metadata": {
        "id": "wMn4Outta2UV"
      },
      "source": [
        "table_ref = dataset_ref.table(\"global_air_quality\")\n",
        "table = client.get_table(table_ref)"
      ],
      "execution_count": null,
      "outputs": []
    },
    {
      "cell_type": "code",
      "metadata": {
        "id": "YSa0312lbT9q"
      },
      "source": [
        ""
      ],
      "execution_count": null,
      "outputs": []
    },
    {
      "cell_type": "markdown",
      "metadata": {
        "id": "2Px5oFH73JU2"
      },
      "source": [
        "##5. Check the table schema"
      ]
    },
    {
      "cell_type": "code",
      "metadata": {
        "colab": {
          "base_uri": "https://localhost:8080/"
        },
        "id": "xVFRnECKbjNf",
        "outputId": "4e660725-3aac-4f34-db12-b1391e5a5523"
      },
      "source": [
        "table.schema"
      ],
      "execution_count": null,
      "outputs": [
        {
          "output_type": "execute_result",
          "data": {
            "text/plain": [
              "[SchemaField('location', 'STRING', 'NULLABLE', 'Location where data was measured', ()),\n",
              " SchemaField('city', 'STRING', 'NULLABLE', 'City containing location', ()),\n",
              " SchemaField('country', 'STRING', 'NULLABLE', 'Country containing measurement in 2 letter ISO code', ()),\n",
              " SchemaField('pollutant', 'STRING', 'NULLABLE', 'Name of the Pollutant being measured. Allowed values: PM25, PM10, SO2, NO2, O3, CO, BC', ()),\n",
              " SchemaField('value', 'FLOAT', 'NULLABLE', 'Latest measured value for the pollutant', ()),\n",
              " SchemaField('timestamp', 'TIMESTAMP', 'NULLABLE', 'The datetime at which the pollutant was measured, in ISO 8601 format', ()),\n",
              " SchemaField('unit', 'STRING', 'NULLABLE', 'The unit the value was measured in coded by UCUM Code', ()),\n",
              " SchemaField('source_name', 'STRING', 'NULLABLE', 'Name of the source of the data', ()),\n",
              " SchemaField('latitude', 'FLOAT', 'NULLABLE', 'Latitude in decimal degrees. Precision >3 decimal points.', ()),\n",
              " SchemaField('longitude', 'FLOAT', 'NULLABLE', 'Longitude in decimal degrees. Precision >3 decimal points.', ()),\n",
              " SchemaField('averaged_over_in_hours', 'FLOAT', 'NULLABLE', 'The number of hours the value was averaged over.', ())]"
            ]
          },
          "metadata": {
            "tags": []
          },
          "execution_count": 7
        }
      ]
    },
    {
      "cell_type": "markdown",
      "metadata": {
        "id": "voMcORAMxrMU"
      },
      "source": [
        "##5. Show your data in a dataframe"
      ]
    },
    {
      "cell_type": "code",
      "metadata": {
        "colab": {
          "base_uri": "https://localhost:8080/",
          "height": 479
        },
        "id": "ojE0uYhbblez",
        "outputId": "287ab288-3ba3-4b9c-8f94-ff1b19fea5dd"
      },
      "source": [
        "client.list_rows(table, max_results=5).to_dataframe()"
      ],
      "execution_count": null,
      "outputs": [
        {
          "output_type": "execute_result",
          "data": {
            "text/html": [
              "<div>\n",
              "<style scoped>\n",
              "    .dataframe tbody tr th:only-of-type {\n",
              "        vertical-align: middle;\n",
              "    }\n",
              "\n",
              "    .dataframe tbody tr th {\n",
              "        vertical-align: top;\n",
              "    }\n",
              "\n",
              "    .dataframe thead th {\n",
              "        text-align: right;\n",
              "    }\n",
              "</style>\n",
              "<table border=\"1\" class=\"dataframe\">\n",
              "  <thead>\n",
              "    <tr style=\"text-align: right;\">\n",
              "      <th></th>\n",
              "      <th>location</th>\n",
              "      <th>city</th>\n",
              "      <th>country</th>\n",
              "      <th>pollutant</th>\n",
              "      <th>value</th>\n",
              "      <th>timestamp</th>\n",
              "      <th>unit</th>\n",
              "      <th>source_name</th>\n",
              "      <th>latitude</th>\n",
              "      <th>longitude</th>\n",
              "      <th>averaged_over_in_hours</th>\n",
              "    </tr>\n",
              "  </thead>\n",
              "  <tbody>\n",
              "    <tr>\n",
              "      <th>0</th>\n",
              "      <td>BTM Layout, Bengaluru - KSPCB</td>\n",
              "      <td>Bengaluru</td>\n",
              "      <td>IN</td>\n",
              "      <td>co</td>\n",
              "      <td>910.00</td>\n",
              "      <td>2018-02-22 03:00:00+00:00</td>\n",
              "      <td>µg/m³</td>\n",
              "      <td>CPCB</td>\n",
              "      <td>12.912811</td>\n",
              "      <td>77.60922</td>\n",
              "      <td>0.25</td>\n",
              "    </tr>\n",
              "    <tr>\n",
              "      <th>1</th>\n",
              "      <td>BTM Layout, Bengaluru - KSPCB</td>\n",
              "      <td>Bengaluru</td>\n",
              "      <td>IN</td>\n",
              "      <td>no2</td>\n",
              "      <td>131.87</td>\n",
              "      <td>2018-02-22 03:00:00+00:00</td>\n",
              "      <td>µg/m³</td>\n",
              "      <td>CPCB</td>\n",
              "      <td>12.912811</td>\n",
              "      <td>77.60922</td>\n",
              "      <td>0.25</td>\n",
              "    </tr>\n",
              "    <tr>\n",
              "      <th>2</th>\n",
              "      <td>BTM Layout, Bengaluru - KSPCB</td>\n",
              "      <td>Bengaluru</td>\n",
              "      <td>IN</td>\n",
              "      <td>o3</td>\n",
              "      <td>15.57</td>\n",
              "      <td>2018-02-22 03:00:00+00:00</td>\n",
              "      <td>µg/m³</td>\n",
              "      <td>CPCB</td>\n",
              "      <td>12.912811</td>\n",
              "      <td>77.60922</td>\n",
              "      <td>0.25</td>\n",
              "    </tr>\n",
              "    <tr>\n",
              "      <th>3</th>\n",
              "      <td>BTM Layout, Bengaluru - KSPCB</td>\n",
              "      <td>Bengaluru</td>\n",
              "      <td>IN</td>\n",
              "      <td>pm25</td>\n",
              "      <td>45.62</td>\n",
              "      <td>2018-02-22 03:00:00+00:00</td>\n",
              "      <td>µg/m³</td>\n",
              "      <td>CPCB</td>\n",
              "      <td>12.912811</td>\n",
              "      <td>77.60922</td>\n",
              "      <td>0.25</td>\n",
              "    </tr>\n",
              "    <tr>\n",
              "      <th>4</th>\n",
              "      <td>BTM Layout, Bengaluru - KSPCB</td>\n",
              "      <td>Bengaluru</td>\n",
              "      <td>IN</td>\n",
              "      <td>so2</td>\n",
              "      <td>4.49</td>\n",
              "      <td>2018-02-22 03:00:00+00:00</td>\n",
              "      <td>µg/m³</td>\n",
              "      <td>CPCB</td>\n",
              "      <td>12.912811</td>\n",
              "      <td>77.60922</td>\n",
              "      <td>0.25</td>\n",
              "    </tr>\n",
              "  </tbody>\n",
              "</table>\n",
              "</div>"
            ],
            "text/plain": [
              "                        location       city  ... longitude averaged_over_in_hours\n",
              "0  BTM Layout, Bengaluru - KSPCB  Bengaluru  ...  77.60922                   0.25\n",
              "1  BTM Layout, Bengaluru - KSPCB  Bengaluru  ...  77.60922                   0.25\n",
              "2  BTM Layout, Bengaluru - KSPCB  Bengaluru  ...  77.60922                   0.25\n",
              "3  BTM Layout, Bengaluru - KSPCB  Bengaluru  ...  77.60922                   0.25\n",
              "4  BTM Layout, Bengaluru - KSPCB  Bengaluru  ...  77.60922                   0.25\n",
              "\n",
              "[5 rows x 11 columns]"
            ]
          },
          "metadata": {
            "tags": []
          },
          "execution_count": 8
        }
      ]
    },
    {
      "cell_type": "code",
      "metadata": {
        "id": "7vsy2nLabxS4"
      },
      "source": [
        ""
      ],
      "execution_count": null,
      "outputs": []
    },
    {
      "cell_type": "markdown",
      "metadata": {
        "id": "pyu2g_hV5u73"
      },
      "source": [
        "##6. Explore your data"
      ]
    },
    {
      "cell_type": "markdown",
      "metadata": {
        "id": "ZisVfcMy5zc3"
      },
      "source": [
        "Which countries have reported pollution levels in units of \"ppm\"? In the code cell below, set first_query to an SQL query that pulls the appropriate entries from the country column."
      ]
    },
    {
      "cell_type": "code",
      "metadata": {
        "colab": {
          "base_uri": "https://localhost:8080/"
        },
        "id": "jF9cteO45yrz",
        "outputId": "e9e0e38a-e183-4c94-adc4-08faebe96f68"
      },
      "source": [
        "first_query = \"\"\"\n",
        "              SELECT country\n",
        "              FROM `bigquery-public-data.openaq.global_air_quality`\n",
        "              WHERE unit = 'ppm'\n",
        "              \"\"\"\n",
        "\n",
        "safe_config = bigquery.QueryJobConfig(maximum_bytes_billed=10**10)\n",
        "first_query_job = client.query(first_query, job_config=safe_config)\n",
        "\n",
        "first_results = first_query_job.to_dataframe()\n",
        "\n",
        "print(first_results.head())"
      ],
      "execution_count": null,
      "outputs": [
        {
          "output_type": "stream",
          "text": [
            "  country\n",
            "0      US\n",
            "1      US\n",
            "2      US\n",
            "3      US\n",
            "4      US\n"
          ],
          "name": "stdout"
        }
      ]
    },
    {
      "cell_type": "markdown",
      "metadata": {
        "id": "3j7vMtxu57no"
      },
      "source": [
        "Which pollution levels were reported to be exactly 0?\n",
        "\n",
        "Set zero_pollution_query to select all columns of the rows where the value column is 0.\n",
        "Set zero_pollution_results to a pandas DataFrame containing the query results."
      ]
    },
    {
      "cell_type": "code",
      "metadata": {
        "colab": {
          "base_uri": "https://localhost:8080/"
        },
        "id": "pQQIH5OU5926",
        "outputId": "4b6cd4a7-2f52-4d59-f372-63a63c3f42bc"
      },
      "source": [
        "zero_pollution_query = \"\"\"\n",
        "                       SELECT *\n",
        "                       FROM `bigquery-public-data.openaq.global_air_quality`\n",
        "                       WHERE value = 0\n",
        "                       \"\"\"\n",
        "safe_config = bigquery.QueryJobConfig(maximum_bytes_billed=10**10)\n",
        "query_job = client.query(zero_pollution_query,job_config=safe_config)\n",
        "\n",
        "zero_pollution_results = query_job.to_dataframe()\n",
        "\n",
        "print(zero_pollution_results.head())"
      ],
      "execution_count": null,
      "outputs": [
        {
          "output_type": "stream",
          "text": [
            "                                        location     city country pollutant  \\\n",
            "0                     Victoria Memorial - WBSPCB  Kolkata      IN      pm25   \n",
            "1  Rabindra Bharati University, Kolkata - WBSPCB  Kolkata      IN       so2   \n",
            "2                   Zamość ul. Hrubieszowska 69A   Zamość      PL       no2   \n",
            "3                               Końskie, MOBILNA  Końskie      PL      pm10   \n",
            "4                               Końskie, MOBILNA  Końskie      PL      pm25   \n",
            "\n",
            "   value                 timestamp   unit source_name   latitude  longitude  \\\n",
            "0    0.0 2017-10-16 20:45:00+00:00  µg/m³        CPCB  22.572645  88.363890   \n",
            "1    0.0 2017-10-28 14:30:00+00:00  µg/m³        CPCB  22.627874  88.380400   \n",
            "2    0.0 2020-05-19 05:00:00+00:00  µg/m³        GIOS  50.716630  23.290247   \n",
            "3    0.0 2018-12-21 13:00:00+00:00  µg/m³        GIOS  51.189526  20.408892   \n",
            "4    0.0 2018-12-21 13:00:00+00:00  µg/m³        GIOS  51.189526  20.408892   \n",
            "\n",
            "   averaged_over_in_hours  \n",
            "0                    0.25  \n",
            "1                    0.25  \n",
            "2                     NaN  \n",
            "3                     NaN  \n",
            "4                     NaN  \n"
          ],
          "name": "stdout"
        }
      ]
    },
    {
      "cell_type": "markdown",
      "metadata": {
        "id": "BzyN6uhCARNq"
      },
      "source": [
        "I would like to display all columns"
      ]
    },
    {
      "cell_type": "code",
      "metadata": {
        "id": "Se5v3qnaAW-U"
      },
      "source": [
        "import pandas as pd\n",
        "pd.set_option('display.max_columns', 500)"
      ],
      "execution_count": null,
      "outputs": []
    },
    {
      "cell_type": "code",
      "metadata": {
        "colab": {
          "base_uri": "https://localhost:8080/"
        },
        "id": "1OKTJ2jyAXo6",
        "outputId": "516aec97-7e61-444d-f6e8-c9a3c35fcb86"
      },
      "source": [
        "zero_pollution_query = \"\"\"\n",
        "                       SELECT *\n",
        "                       FROM `bigquery-public-data.openaq.global_air_quality`\n",
        "                       WHERE value = 0\n",
        "                       \"\"\"\n",
        "safe_config = bigquery.QueryJobConfig(maximum_bytes_billed=10**10)\n",
        "query_job = client.query(zero_pollution_query,job_config=safe_config)\n",
        "\n",
        "zero_pollution_results = query_job.to_dataframe()\n",
        "\n",
        "print(zero_pollution_results.head())"
      ],
      "execution_count": null,
      "outputs": [
        {
          "output_type": "stream",
          "text": [
            "                                        location     city country pollutant  \\\n",
            "0                     Victoria Memorial - WBSPCB  Kolkata      IN      pm25   \n",
            "1  Rabindra Bharati University, Kolkata - WBSPCB  Kolkata      IN       so2   \n",
            "2                   Zamość ul. Hrubieszowska 69A   Zamość      PL       no2   \n",
            "3                               Końskie, MOBILNA  Końskie      PL      pm10   \n",
            "4                               Końskie, MOBILNA  Końskie      PL      pm25   \n",
            "\n",
            "   value                 timestamp   unit source_name   latitude  longitude  \\\n",
            "0    0.0 2017-10-16 20:45:00+00:00  µg/m³        CPCB  22.572645  88.363890   \n",
            "1    0.0 2017-10-28 14:30:00+00:00  µg/m³        CPCB  22.627874  88.380400   \n",
            "2    0.0 2020-05-19 05:00:00+00:00  µg/m³        GIOS  50.716630  23.290247   \n",
            "3    0.0 2018-12-21 13:00:00+00:00  µg/m³        GIOS  51.189526  20.408892   \n",
            "4    0.0 2018-12-21 13:00:00+00:00  µg/m³        GIOS  51.189526  20.408892   \n",
            "\n",
            "   averaged_over_in_hours  \n",
            "0                    0.25  \n",
            "1                    0.25  \n",
            "2                     NaN  \n",
            "3                     NaN  \n",
            "4                     NaN  \n"
          ],
          "name": "stdout"
        }
      ]
    },
    {
      "cell_type": "code",
      "metadata": {
        "id": "sw6WbghgAbld"
      },
      "source": [
        ""
      ],
      "execution_count": null,
      "outputs": []
    }
  ]
}