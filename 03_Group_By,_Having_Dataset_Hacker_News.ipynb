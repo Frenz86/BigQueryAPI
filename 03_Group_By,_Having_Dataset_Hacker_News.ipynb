{
  "nbformat": 4,
  "nbformat_minor": 0,
  "metadata": {
    "colab": {
      "name": "03 - Group By, Having - Dataset Hacker News.ipynb",
      "provenance": [],
      "authorship_tag": "ABX9TyPLvMwDaE/MR+ESUinh1fon",
      "include_colab_link": true
    },
    "kernelspec": {
      "name": "python3",
      "display_name": "Python 3"
    },
    "language_info": {
      "name": "python"
    }
  },
  "cells": [
    {
      "cell_type": "markdown",
      "metadata": {
        "id": "view-in-github",
        "colab_type": "text"
      },
      "source": [
        "<a href=\"https://colab.research.google.com/github/mtpradoc/BigQueryAPI/blob/main/03_Group_By%2C_Having_Dataset_Hacker_News.ipynb\" target=\"_parent\"><img src=\"https://colab.research.google.com/assets/colab-badge.svg\" alt=\"Open In Colab\"/></a>"
      ]
    },
    {
      "cell_type": "markdown",
      "metadata": {
        "id": "naUMFtS3wRHr"
      },
      "source": [
        "\n",
        "#Programmatically connect to BigQuery"
      ]
    },
    {
      "cell_type": "markdown",
      "metadata": {
        "id": "GbXo5LTqdnCY"
      },
      "source": [
        "In order to use a public dataset Hacker News in BigQuery we need to programmatically authenticate to the google cloud platform"
      ]
    },
    {
      "cell_type": "markdown",
      "metadata": {
        "id": "HTwOOPvXwcYt"
      },
      "source": [
        "##1. Authenticate to GCP"
      ]
    },
    {
      "cell_type": "code",
      "metadata": {
        "id": "g0EXRSzURaAF"
      },
      "source": [
        "from google.colab import auth\n",
        "auth.authenticate_user()"
      ],
      "execution_count": null,
      "outputs": []
    },
    {
      "cell_type": "markdown",
      "metadata": {
        "id": "FEkBITCuZJAL"
      },
      "source": [
        ""
      ]
    },
    {
      "cell_type": "markdown",
      "metadata": {
        "id": "1ysOGfateBSa"
      },
      "source": [
        "Let's specify which project_id we are going to use. It can be any"
      ]
    },
    {
      "cell_type": "code",
      "metadata": {
        "id": "AjMekpvoXD0r"
      },
      "source": [
        "project_id = 'hazel-env-310501'"
      ],
      "execution_count": null,
      "outputs": []
    },
    {
      "cell_type": "markdown",
      "metadata": {
        "id": "3QfEKE8hw77L"
      },
      "source": [
        "##2. Connect to the BigQuery API"
      ]
    },
    {
      "cell_type": "code",
      "metadata": {
        "id": "WMEMSjFeU22y"
      },
      "source": [
        "from google.cloud import bigquery"
      ],
      "execution_count": null,
      "outputs": []
    },
    {
      "cell_type": "code",
      "metadata": {
        "id": "rJt-WAppZqSD"
      },
      "source": [
        "client = bigquery.Client(project=project_id)"
      ],
      "execution_count": null,
      "outputs": []
    },
    {
      "cell_type": "markdown",
      "metadata": {
        "id": "YRNTMmYYxI6_"
      },
      "source": [
        "##3. Access the Dataset (public or private)"
      ]
    },
    {
      "cell_type": "markdown",
      "metadata": {
        "id": "b1PgmGeedW8X"
      },
      "source": [
        "Let's put a reference for the dataset and project where the dataset we are going to work with"
      ]
    },
    {
      "cell_type": "code",
      "metadata": {
        "id": "kjFYjcZhSF9s"
      },
      "source": [
        "dataset_ref = client.dataset(\"hacker_news\", project=\"bigquery-public-data\")\n",
        "\n",
        "dataset = client.get_dataset(dataset_ref)"
      ],
      "execution_count": null,
      "outputs": []
    },
    {
      "cell_type": "markdown",
      "metadata": {
        "id": "sGS4czJVxfoe"
      },
      "source": [
        "##4. List your tables"
      ]
    },
    {
      "cell_type": "code",
      "metadata": {
        "id": "wMn4Outta2UV"
      },
      "source": [
        "table_ref = dataset_ref.table(\"comments\")\n",
        "\n",
        "table = client.get_table(table_ref)"
      ],
      "execution_count": null,
      "outputs": []
    },
    {
      "cell_type": "markdown",
      "metadata": {
        "id": "2Px5oFH73JU2"
      },
      "source": [
        "##5. Check the table schema"
      ]
    },
    {
      "cell_type": "code",
      "metadata": {
        "colab": {
          "base_uri": "https://localhost:8080/"
        },
        "id": "xVFRnECKbjNf",
        "outputId": "b8fe4a63-69b9-49ee-ed9f-748d6a8b5dde"
      },
      "source": [
        "table.schema"
      ],
      "execution_count": null,
      "outputs": [
        {
          "output_type": "execute_result",
          "data": {
            "text/plain": [
              "[SchemaField('id', 'INTEGER', 'NULLABLE', 'Unique comment ID', ()),\n",
              " SchemaField('by', 'STRING', 'NULLABLE', 'Username of commenter', ()),\n",
              " SchemaField('author', 'STRING', 'NULLABLE', 'Username of author', ()),\n",
              " SchemaField('time', 'INTEGER', 'NULLABLE', 'Unix time', ()),\n",
              " SchemaField('time_ts', 'TIMESTAMP', 'NULLABLE', 'Human readable time in UTC (format: YYYY-MM-DD hh:mm:ss)', ()),\n",
              " SchemaField('text', 'STRING', 'NULLABLE', 'Comment text', ()),\n",
              " SchemaField('parent', 'INTEGER', 'NULLABLE', 'Parent comment ID', ()),\n",
              " SchemaField('deleted', 'BOOLEAN', 'NULLABLE', 'Is deleted?', ()),\n",
              " SchemaField('dead', 'BOOLEAN', 'NULLABLE', 'Is dead?', ()),\n",
              " SchemaField('ranking', 'INTEGER', 'NULLABLE', 'Comment ranking', ())]"
            ]
          },
          "metadata": {
            "tags": []
          },
          "execution_count": 7
        }
      ]
    },
    {
      "cell_type": "markdown",
      "metadata": {
        "id": "voMcORAMxrMU"
      },
      "source": [
        "##5. Show your data in a dataframe"
      ]
    },
    {
      "cell_type": "code",
      "metadata": {
        "colab": {
          "base_uri": "https://localhost:8080/",
          "height": 323
        },
        "id": "ojE0uYhbblez",
        "outputId": "59242ab4-bc1b-467c-9918-b568decd3cab"
      },
      "source": [
        "client.list_rows(table, max_results=5).to_dataframe()"
      ],
      "execution_count": null,
      "outputs": [
        {
          "output_type": "execute_result",
          "data": {
            "text/html": [
              "<div>\n",
              "<style scoped>\n",
              "    .dataframe tbody tr th:only-of-type {\n",
              "        vertical-align: middle;\n",
              "    }\n",
              "\n",
              "    .dataframe tbody tr th {\n",
              "        vertical-align: top;\n",
              "    }\n",
              "\n",
              "    .dataframe thead th {\n",
              "        text-align: right;\n",
              "    }\n",
              "</style>\n",
              "<table border=\"1\" class=\"dataframe\">\n",
              "  <thead>\n",
              "    <tr style=\"text-align: right;\">\n",
              "      <th></th>\n",
              "      <th>id</th>\n",
              "      <th>by</th>\n",
              "      <th>author</th>\n",
              "      <th>time</th>\n",
              "      <th>time_ts</th>\n",
              "      <th>text</th>\n",
              "      <th>parent</th>\n",
              "      <th>deleted</th>\n",
              "      <th>dead</th>\n",
              "      <th>ranking</th>\n",
              "    </tr>\n",
              "  </thead>\n",
              "  <tbody>\n",
              "    <tr>\n",
              "      <th>0</th>\n",
              "      <td>2701393</td>\n",
              "      <td>5l</td>\n",
              "      <td>5l</td>\n",
              "      <td>1309184881</td>\n",
              "      <td>2011-06-27 14:28:01+00:00</td>\n",
              "      <td>And the glazier who fixed all the broken windo...</td>\n",
              "      <td>2701243</td>\n",
              "      <td>None</td>\n",
              "      <td>None</td>\n",
              "      <td>0</td>\n",
              "    </tr>\n",
              "    <tr>\n",
              "      <th>1</th>\n",
              "      <td>5811403</td>\n",
              "      <td>99</td>\n",
              "      <td>99</td>\n",
              "      <td>1370234048</td>\n",
              "      <td>2013-06-03 04:34:08+00:00</td>\n",
              "      <td>Does canada have the equivalent of H1B/Green c...</td>\n",
              "      <td>5804452</td>\n",
              "      <td>None</td>\n",
              "      <td>None</td>\n",
              "      <td>0</td>\n",
              "    </tr>\n",
              "    <tr>\n",
              "      <th>2</th>\n",
              "      <td>21623</td>\n",
              "      <td>AF</td>\n",
              "      <td>AF</td>\n",
              "      <td>1178992400</td>\n",
              "      <td>2007-05-12 17:53:20+00:00</td>\n",
              "      <td>Speaking of Rails, there are other options in ...</td>\n",
              "      <td>21611</td>\n",
              "      <td>None</td>\n",
              "      <td>None</td>\n",
              "      <td>0</td>\n",
              "    </tr>\n",
              "    <tr>\n",
              "      <th>3</th>\n",
              "      <td>10159727</td>\n",
              "      <td>EA</td>\n",
              "      <td>EA</td>\n",
              "      <td>1441206574</td>\n",
              "      <td>2015-09-02 15:09:34+00:00</td>\n",
              "      <td>Humans and large livestock (and maybe even pet...</td>\n",
              "      <td>10159396</td>\n",
              "      <td>None</td>\n",
              "      <td>None</td>\n",
              "      <td>0</td>\n",
              "    </tr>\n",
              "    <tr>\n",
              "      <th>4</th>\n",
              "      <td>2988424</td>\n",
              "      <td>Iv</td>\n",
              "      <td>Iv</td>\n",
              "      <td>1315853580</td>\n",
              "      <td>2011-09-12 18:53:00+00:00</td>\n",
              "      <td>I must say I reacted in the same way when I re...</td>\n",
              "      <td>2988179</td>\n",
              "      <td>None</td>\n",
              "      <td>None</td>\n",
              "      <td>0</td>\n",
              "    </tr>\n",
              "  </tbody>\n",
              "</table>\n",
              "</div>"
            ],
            "text/plain": [
              "         id  by author        time  ...    parent deleted  dead ranking\n",
              "0   2701393  5l     5l  1309184881  ...   2701243    None  None       0\n",
              "1   5811403  99     99  1370234048  ...   5804452    None  None       0\n",
              "2     21623  AF     AF  1178992400  ...     21611    None  None       0\n",
              "3  10159727  EA     EA  1441206574  ...  10159396    None  None       0\n",
              "4   2988424  Iv     Iv  1315853580  ...   2988179    None  None       0\n",
              "\n",
              "[5 rows x 10 columns]"
            ]
          },
          "metadata": {
            "tags": []
          },
          "execution_count": 8
        }
      ]
    },
    {
      "cell_type": "markdown",
      "metadata": {
        "id": "pyu2g_hV5u73"
      },
      "source": [
        "##6. Explore your data"
      ]
    },
    {
      "cell_type": "markdown",
      "metadata": {
        "id": "ZisVfcMy5zc3"
      },
      "source": [
        "Hacker News would like to send awards to everyone who has written more than 10,000 posts. Write a query that returns all authors with more than 10,000 posts as well as their post counts. Call the column with post counts NumPosts."
      ]
    },
    {
      "cell_type": "code",
      "metadata": {
        "colab": {
          "base_uri": "https://localhost:8080/"
        },
        "id": "jF9cteO45yrz",
        "outputId": "0e45c78b-48f6-4fe0-c1d9-8092fa15a2e0"
      },
      "source": [
        "prolific_commenters_query = \"\"\"\n",
        "                            SELECT author, COUNT(1) as NumPosts\n",
        "                            FROM `bigquery-public-data.hacker_news.comments`\n",
        "                            GROUP BY author\n",
        "                            HAVING COUNT(1) >10000\n",
        "                            \"\"\"\n",
        "safe_config = bigquery.QueryJobConfig(maximum_bytes_billed=10**10)\n",
        "query_job = client.query(prolific_commenters_query, job_config=safe_config)\n",
        "\n",
        "prolific_commenters = query_job.to_dataframe()\n",
        "\n",
        "print(prolific_commenters.head())"
      ],
      "execution_count": null,
      "outputs": [
        {
          "output_type": "stream",
          "text": [
            "         author  NumPosts\n",
            "0  dragonwriter     10723\n",
            "1          None    227736\n",
            "2         DanBC     12902\n",
            "3         sp332     10882\n",
            "4        davidw     10764\n"
          ],
          "name": "stdout"
        }
      ]
    },
    {
      "cell_type": "markdown",
      "metadata": {
        "id": "3j7vMtxu57no"
      },
      "source": [
        "How many comments have been deleted? (If a comment was deleted, the deleted column in the comments table will have the value True.)"
      ]
    },
    {
      "cell_type": "code",
      "metadata": {
        "colab": {
          "base_uri": "https://localhost:8080/"
        },
        "id": "pQQIH5OU5926",
        "outputId": "410cc495-5074-4d63-c0b9-ee81b0f4a46d"
      },
      "source": [
        "prolific_commenters_query = \"\"\"\n",
        "                            SELECT COUNT(*)\n",
        "                            FROM `bigquery-public-data.hacker_news.comments`\n",
        "                            WHERE deleted = True\n",
        "                            \"\"\"\n",
        "safe_config = bigquery.QueryJobConfig(maximum_bytes_billed=10**10)\n",
        "query_job = client.query(prolific_commenters_query, job_config=safe_config)\n",
        "\n",
        "prolific_commenters = query_job.to_dataframe()\n",
        "\n",
        "print(prolific_commenters.head())"
      ],
      "execution_count": null,
      "outputs": [
        {
          "output_type": "stream",
          "text": [
            "      f0_\n",
            "0  227736\n"
          ],
          "name": "stdout"
        }
      ]
    },
    {
      "cell_type": "code",
      "metadata": {
        "id": "sw6WbghgAbld"
      },
      "source": [
        ""
      ],
      "execution_count": null,
      "outputs": []
    }
  ]
}