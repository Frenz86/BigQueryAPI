{
  "nbformat": 4,
  "nbformat_minor": 0,
  "metadata": {
    "colab": {
      "name": "BigQuery-Using-Public-Dataset.ipynb",
      "provenance": [],
      "authorship_tag": "ABX9TyMnFKhnHXIu0mY2s25KEYMZ",
      "include_colab_link": true
    },
    "kernelspec": {
      "name": "python3",
      "display_name": "Python 3"
    },
    "language_info": {
      "name": "python"
    }
  },
  "cells": [
    {
      "cell_type": "markdown",
      "metadata": {
        "id": "view-in-github",
        "colab_type": "text"
      },
      "source": [
        "<a href=\"https://colab.research.google.com/github/mtpradoc/BigQueryAPI/blob/main/BigQuery_Using_Public_Dataset.ipynb\" target=\"_parent\"><img src=\"https://colab.research.google.com/assets/colab-badge.svg\" alt=\"Open In Colab\"/></a>"
      ]
    },
    {
      "cell_type": "markdown",
      "metadata": {
        "id": "naUMFtS3wRHr"
      },
      "source": [
        "\n",
        "#Programmatically connect to BigQuery"
      ]
    },
    {
      "cell_type": "markdown",
      "metadata": {
        "id": "GbXo5LTqdnCY"
      },
      "source": [
        "In order to use a public dataset in BigQuery we need to programmatically authenticate to the google cloud platform"
      ]
    },
    {
      "cell_type": "markdown",
      "metadata": {
        "id": "HTwOOPvXwcYt"
      },
      "source": [
        "##1. Authenticate to GCP"
      ]
    },
    {
      "cell_type": "code",
      "metadata": {
        "id": "g0EXRSzURaAF"
      },
      "source": [
        "from google.colab import auth\n",
        "auth.authenticate_user()"
      ],
      "execution_count": null,
      "outputs": []
    },
    {
      "cell_type": "markdown",
      "metadata": {
        "id": "1ysOGfateBSa"
      },
      "source": [
        "Let's specify which project_id we are going to use. It can be any"
      ]
    },
    {
      "cell_type": "code",
      "metadata": {
        "id": "AjMekpvoXD0r"
      },
      "source": [
        "project_id = 'hazel-env-310501'"
      ],
      "execution_count": null,
      "outputs": []
    },
    {
      "cell_type": "markdown",
      "metadata": {
        "id": "3QfEKE8hw77L"
      },
      "source": [
        "##2. Connect to the BigQuery API"
      ]
    },
    {
      "cell_type": "code",
      "metadata": {
        "id": "WMEMSjFeU22y"
      },
      "source": [
        "from google.cloud import bigquery"
      ],
      "execution_count": null,
      "outputs": []
    },
    {
      "cell_type": "code",
      "metadata": {
        "id": "2O5UeyQ8R5jr"
      },
      "source": [
        "client = bigquery.Client(project=project_id)"
      ],
      "execution_count": null,
      "outputs": []
    },
    {
      "cell_type": "markdown",
      "metadata": {
        "id": "YRNTMmYYxI6_"
      },
      "source": [
        "##3. Access the Dataset (public or private)"
      ]
    },
    {
      "cell_type": "markdown",
      "metadata": {
        "id": "b1PgmGeedW8X"
      },
      "source": [
        "Let's put a reference for the dataset and project where the dataset we are going to work with"
      ]
    },
    {
      "cell_type": "code",
      "metadata": {
        "id": "kjFYjcZhSF9s"
      },
      "source": [
        "dataset_ref = client.dataset(\"hacker_news\", project=\"bigquery-public-data\")\n",
        "dataset = client.get_dataset(dataset_ref)"
      ],
      "execution_count": null,
      "outputs": []
    },
    {
      "cell_type": "markdown",
      "metadata": {
        "id": "sGS4czJVxfoe"
      },
      "source": [
        "##4. List your tables"
      ]
    },
    {
      "cell_type": "code",
      "metadata": {
        "colab": {
          "base_uri": "https://localhost:8080/"
        },
        "id": "wMn4Outta2UV",
        "outputId": "73f36928-6c90-4349-d2b8-bfaf01a7b3a6"
      },
      "source": [
        "tables = list(client.list_tables(dataset))\n",
        "for table in tables:\n",
        "  print(table.table_id)"
      ],
      "execution_count": null,
      "outputs": [
        {
          "output_type": "stream",
          "text": [
            "comments\n",
            "full\n",
            "full_201510\n",
            "stories\n"
          ],
          "name": "stdout"
        }
      ]
    },
    {
      "cell_type": "code",
      "metadata": {
        "id": "YSa0312lbT9q"
      },
      "source": [
        "table_ref = dataset_ref.table('full')\n",
        "table = client.get_table(table_ref)"
      ],
      "execution_count": null,
      "outputs": []
    },
    {
      "cell_type": "markdown",
      "metadata": {
        "id": "2Px5oFH73JU2"
      },
      "source": [
        "##5. Check the table schema"
      ]
    },
    {
      "cell_type": "code",
      "metadata": {
        "colab": {
          "base_uri": "https://localhost:8080/"
        },
        "id": "xVFRnECKbjNf",
        "outputId": "b33881bb-24b8-4d16-d4e9-cd15dcffd5a3"
      },
      "source": [
        "table.schema"
      ],
      "execution_count": null,
      "outputs": [
        {
          "output_type": "execute_result",
          "data": {
            "text/plain": [
              "[SchemaField('title', 'STRING', 'NULLABLE', 'Story title', ()),\n",
              " SchemaField('url', 'STRING', 'NULLABLE', 'Story url', ()),\n",
              " SchemaField('text', 'STRING', 'NULLABLE', 'Story or comment text', ()),\n",
              " SchemaField('dead', 'BOOLEAN', 'NULLABLE', 'Is dead?', ()),\n",
              " SchemaField('by', 'STRING', 'NULLABLE', \"The username of the item's author.\", ()),\n",
              " SchemaField('score', 'INTEGER', 'NULLABLE', 'Story score', ()),\n",
              " SchemaField('time', 'INTEGER', 'NULLABLE', 'Unix time', ()),\n",
              " SchemaField('timestamp', 'TIMESTAMP', 'NULLABLE', 'Timestamp for the unix time', ()),\n",
              " SchemaField('type', 'STRING', 'NULLABLE', 'Type of details (comment, comment_ranking, poll, story, job, pollopt)', ()),\n",
              " SchemaField('id', 'INTEGER', 'NULLABLE', \"The item's unique id.\", ()),\n",
              " SchemaField('parent', 'INTEGER', 'NULLABLE', 'Parent comment ID', ()),\n",
              " SchemaField('descendants', 'INTEGER', 'NULLABLE', 'Number of story or poll descendants', ()),\n",
              " SchemaField('ranking', 'INTEGER', 'NULLABLE', 'Comment ranking', ()),\n",
              " SchemaField('deleted', 'BOOLEAN', 'NULLABLE', 'Is deleted?', ())]"
            ]
          },
          "metadata": {
            "tags": []
          },
          "execution_count": 9
        }
      ]
    },
    {
      "cell_type": "markdown",
      "metadata": {
        "id": "voMcORAMxrMU"
      },
      "source": [
        "##5. Show your data in a dataframe"
      ]
    },
    {
      "cell_type": "code",
      "metadata": {
        "colab": {
          "base_uri": "https://localhost:8080/",
          "height": 391
        },
        "id": "ojE0uYhbblez",
        "outputId": "b629d122-163c-4147-8f88-3a980e3d5d81"
      },
      "source": [
        "|client.list_rows(table, max_results=5).to_dataframe()"
      ],
      "execution_count": null,
      "outputs": [
        {
          "output_type": "execute_result",
          "data": {
            "text/html": [
              "<div>\n",
              "<style scoped>\n",
              "    .dataframe tbody tr th:only-of-type {\n",
              "        vertical-align: middle;\n",
              "    }\n",
              "\n",
              "    .dataframe tbody tr th {\n",
              "        vertical-align: top;\n",
              "    }\n",
              "\n",
              "    .dataframe thead th {\n",
              "        text-align: right;\n",
              "    }\n",
              "</style>\n",
              "<table border=\"1\" class=\"dataframe\">\n",
              "  <thead>\n",
              "    <tr style=\"text-align: right;\">\n",
              "      <th></th>\n",
              "      <th>title</th>\n",
              "      <th>url</th>\n",
              "      <th>text</th>\n",
              "      <th>dead</th>\n",
              "      <th>by</th>\n",
              "      <th>score</th>\n",
              "      <th>time</th>\n",
              "      <th>timestamp</th>\n",
              "      <th>type</th>\n",
              "      <th>id</th>\n",
              "      <th>parent</th>\n",
              "      <th>descendants</th>\n",
              "      <th>ranking</th>\n",
              "      <th>deleted</th>\n",
              "    </tr>\n",
              "  </thead>\n",
              "  <tbody>\n",
              "    <tr>\n",
              "      <th>0</th>\n",
              "      <td>None</td>\n",
              "      <td>None</td>\n",
              "      <td>Solar is pretty much in the process of taking ...</td>\n",
              "      <td>None</td>\n",
              "      <td>DaniFong</td>\n",
              "      <td>None</td>\n",
              "      <td>1225599228</td>\n",
              "      <td>2008-11-02 04:13:48+00:00</td>\n",
              "      <td>comment</td>\n",
              "      <td>351171</td>\n",
              "      <td>350819</td>\n",
              "      <td>None</td>\n",
              "      <td>None</td>\n",
              "      <td>None</td>\n",
              "    </tr>\n",
              "    <tr>\n",
              "      <th>1</th>\n",
              "      <td>None</td>\n",
              "      <td>None</td>\n",
              "      <td>b-b-but...THE CLOUD!!!</td>\n",
              "      <td>None</td>\n",
              "      <td>sown</td>\n",
              "      <td>None</td>\n",
              "      <td>1225599040</td>\n",
              "      <td>2008-11-02 04:10:40+00:00</td>\n",
              "      <td>comment</td>\n",
              "      <td>351170</td>\n",
              "      <td>351065</td>\n",
              "      <td>None</td>\n",
              "      <td>None</td>\n",
              "      <td>None</td>\n",
              "    </tr>\n",
              "    <tr>\n",
              "      <th>2</th>\n",
              "      <td>None</td>\n",
              "      <td>None</td>\n",
              "      <td>well yes, voters are holding the incumbent par...</td>\n",
              "      <td>None</td>\n",
              "      <td>vaksel</td>\n",
              "      <td>None</td>\n",
              "      <td>1225599403</td>\n",
              "      <td>2008-11-02 04:16:43+00:00</td>\n",
              "      <td>comment</td>\n",
              "      <td>351173</td>\n",
              "      <td>351144</td>\n",
              "      <td>None</td>\n",
              "      <td>None</td>\n",
              "      <td>None</td>\n",
              "    </tr>\n",
              "    <tr>\n",
              "      <th>3</th>\n",
              "      <td>None</td>\n",
              "      <td>None</td>\n",
              "      <td>Nanosolar actually makes low-cost printed sola...</td>\n",
              "      <td>None</td>\n",
              "      <td>DaniFong</td>\n",
              "      <td>None</td>\n",
              "      <td>1225599266</td>\n",
              "      <td>2008-11-02 04:14:26+00:00</td>\n",
              "      <td>comment</td>\n",
              "      <td>351172</td>\n",
              "      <td>350824</td>\n",
              "      <td>None</td>\n",
              "      <td>None</td>\n",
              "      <td>None</td>\n",
              "    </tr>\n",
              "    <tr>\n",
              "      <th>4</th>\n",
              "      <td>None</td>\n",
              "      <td>None</td>\n",
              "      <td>This is the sort of thing I worry about cloud ...</td>\n",
              "      <td>None</td>\n",
              "      <td>sown</td>\n",
              "      <td>None</td>\n",
              "      <td>1225600391</td>\n",
              "      <td>2008-11-02 04:33:11+00:00</td>\n",
              "      <td>comment</td>\n",
              "      <td>351179</td>\n",
              "      <td>350968</td>\n",
              "      <td>None</td>\n",
              "      <td>None</td>\n",
              "      <td>None</td>\n",
              "    </tr>\n",
              "  </tbody>\n",
              "</table>\n",
              "</div>"
            ],
            "text/plain": [
              "  title   url  ... ranking deleted\n",
              "0  None  None  ...    None    None\n",
              "1  None  None  ...    None    None\n",
              "2  None  None  ...    None    None\n",
              "3  None  None  ...    None    None\n",
              "4  None  None  ...    None    None\n",
              "\n",
              "[5 rows x 14 columns]"
            ]
          },
          "metadata": {
            "tags": []
          },
          "execution_count": 11
        }
      ]
    },
    {
      "cell_type": "code",
      "metadata": {
        "id": "7vsy2nLabxS4"
      },
      "source": [
        ""
      ],
      "execution_count": null,
      "outputs": []
    }
  ]
}