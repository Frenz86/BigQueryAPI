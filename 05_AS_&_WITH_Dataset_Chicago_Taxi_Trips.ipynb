{
  "nbformat": 4,
  "nbformat_minor": 0,
  "metadata": {
    "colab": {
      "name": "05 - AS & WITH - Dataset Chicago Taxi Trips.ipynb",
      "provenance": [],
      "authorship_tag": "ABX9TyPLPnokvpdgKmNkHtaUDB6h",
      "include_colab_link": true
    },
    "kernelspec": {
      "name": "python3",
      "display_name": "Python 3"
    },
    "language_info": {
      "name": "python"
    }
  },
  "cells": [
    {
      "cell_type": "markdown",
      "metadata": {
        "id": "view-in-github",
        "colab_type": "text"
      },
      "source": [
        "<a href=\"https://colab.research.google.com/github/mtpradoc/BigQueryAPI/blob/main/05_AS_%26_WITH_Dataset_Chicago_Taxi_Trips.ipynb\" target=\"_parent\"><img src=\"https://colab.research.google.com/assets/colab-badge.svg\" alt=\"Open In Colab\"/></a>"
      ]
    },
    {
      "cell_type": "markdown",
      "metadata": {
        "id": "naUMFtS3wRHr"
      },
      "source": [
        "\n",
        "#Programmatically connect to BigQuery"
      ]
    },
    {
      "cell_type": "markdown",
      "metadata": {
        "id": "GbXo5LTqdnCY"
      },
      "source": [
        "In order to use a public dataset in BigQuery we need to programmatically authenticate to the google cloud platform"
      ]
    },
    {
      "cell_type": "markdown",
      "metadata": {
        "id": "HTwOOPvXwcYt"
      },
      "source": [
        "##1. Authenticate to GCP"
      ]
    },
    {
      "cell_type": "code",
      "metadata": {
        "id": "g0EXRSzURaAF"
      },
      "source": [
        "from google.colab import auth\n",
        "auth.authenticate_user()"
      ],
      "execution_count": null,
      "outputs": []
    },
    {
      "cell_type": "markdown",
      "metadata": {
        "id": "1ysOGfateBSa"
      },
      "source": [
        "Let's specify which project_id we are going to use. It can be any"
      ]
    },
    {
      "cell_type": "code",
      "metadata": {
        "id": "AjMekpvoXD0r"
      },
      "source": [
        "project_id = \"hazel-env-310501\""
      ],
      "execution_count": null,
      "outputs": []
    },
    {
      "cell_type": "markdown",
      "metadata": {
        "id": "3QfEKE8hw77L"
      },
      "source": [
        "##2. Connect to the BigQuery API"
      ]
    },
    {
      "cell_type": "code",
      "metadata": {
        "id": "WMEMSjFeU22y"
      },
      "source": [
        "from google.cloud import bigquery"
      ],
      "execution_count": null,
      "outputs": []
    },
    {
      "cell_type": "code",
      "metadata": {
        "id": "2O5UeyQ8R5jr"
      },
      "source": [
        "client = bigquery.Client(project=project_id)"
      ],
      "execution_count": null,
      "outputs": []
    },
    {
      "cell_type": "markdown",
      "metadata": {
        "id": "YRNTMmYYxI6_"
      },
      "source": [
        "##3. Access the Dataset (public or private)"
      ]
    },
    {
      "cell_type": "markdown",
      "metadata": {
        "id": "b1PgmGeedW8X"
      },
      "source": [
        "Let's put a reference for the dataset and project where the dataset we are going to work with"
      ]
    },
    {
      "cell_type": "code",
      "metadata": {
        "id": "kjFYjcZhSF9s"
      },
      "source": [
        "dataset_ref = client.dataset(\"chicago_taxi_trips\", project=\"bigquery-public-data\")\n",
        "\n",
        "dataset = client.get_dataset(dataset_ref)"
      ],
      "execution_count": null,
      "outputs": []
    },
    {
      "cell_type": "markdown",
      "metadata": {
        "id": "sGS4czJVxfoe"
      },
      "source": [
        "##4. List your tables"
      ]
    },
    {
      "cell_type": "code",
      "metadata": {
        "id": "wMn4Outta2UV",
        "colab": {
          "base_uri": "https://localhost:8080/"
        },
        "outputId": "9b72f6f5-3fdc-4c83-a29e-77f9264e5adf"
      },
      "source": [
        "tables = list(client.list_tables(dataset))\n",
        "\n",
        "for table in tables:\n",
        "  print(table.table_id)"
      ],
      "execution_count": null,
      "outputs": [
        {
          "output_type": "stream",
          "text": [
            "taxi_trips\n"
          ],
          "name": "stdout"
        }
      ]
    },
    {
      "cell_type": "markdown",
      "metadata": {
        "id": "2Px5oFH73JU2"
      },
      "source": [
        "##5. Check the table schema"
      ]
    },
    {
      "cell_type": "code",
      "metadata": {
        "id": "xVFRnECKbjNf",
        "colab": {
          "base_uri": "https://localhost:8080/"
        },
        "outputId": "55a52ccd-4bc7-4bf2-867f-176a82261025"
      },
      "source": [
        "table_ref = dataset_ref.table(\"taxi_trips\")\n",
        "table = client.get_table(table_ref)\n",
        "\n",
        "table.schema"
      ],
      "execution_count": null,
      "outputs": [
        {
          "output_type": "execute_result",
          "data": {
            "text/plain": [
              "[SchemaField('unique_key', 'STRING', 'REQUIRED', 'Unique identifier for the trip.', ()),\n",
              " SchemaField('taxi_id', 'STRING', 'REQUIRED', 'A unique identifier for the taxi.', ()),\n",
              " SchemaField('trip_start_timestamp', 'TIMESTAMP', 'NULLABLE', 'When the trip started, rounded to the nearest 15 minutes.', ()),\n",
              " SchemaField('trip_end_timestamp', 'TIMESTAMP', 'NULLABLE', 'When the trip ended, rounded to the nearest 15 minutes.', ()),\n",
              " SchemaField('trip_seconds', 'INTEGER', 'NULLABLE', 'Time of the trip in seconds.', ()),\n",
              " SchemaField('trip_miles', 'FLOAT', 'NULLABLE', 'Distance of the trip in miles.', ()),\n",
              " SchemaField('pickup_census_tract', 'INTEGER', 'NULLABLE', 'The Census Tract where the trip began. For privacy, this Census Tract is not shown for some trips.', ()),\n",
              " SchemaField('dropoff_census_tract', 'INTEGER', 'NULLABLE', 'The Census Tract where the trip ended. For privacy, this Census Tract is not shown for some trips.', ()),\n",
              " SchemaField('pickup_community_area', 'INTEGER', 'NULLABLE', 'The Community Area where the trip began.', ()),\n",
              " SchemaField('dropoff_community_area', 'INTEGER', 'NULLABLE', 'The Community Area where the trip ended.', ()),\n",
              " SchemaField('fare', 'FLOAT', 'NULLABLE', 'The fare for the trip.', ()),\n",
              " SchemaField('tips', 'FLOAT', 'NULLABLE', 'The tip for the trip. Cash tips generally will not be recorded.', ()),\n",
              " SchemaField('tolls', 'FLOAT', 'NULLABLE', 'The tolls for the trip.', ()),\n",
              " SchemaField('extras', 'FLOAT', 'NULLABLE', 'Extra charges for the trip.', ()),\n",
              " SchemaField('trip_total', 'FLOAT', 'NULLABLE', 'Total cost of the trip, the total of the fare, tips, tolls, and extras.', ()),\n",
              " SchemaField('payment_type', 'STRING', 'NULLABLE', 'Type of payment for the trip.', ()),\n",
              " SchemaField('company', 'STRING', 'NULLABLE', 'The taxi company.', ()),\n",
              " SchemaField('pickup_latitude', 'FLOAT', 'NULLABLE', 'The latitude of the center of the pickup census tract or the community area if the census tract has been hidden for privacy.', ()),\n",
              " SchemaField('pickup_longitude', 'FLOAT', 'NULLABLE', 'The longitude of the center of the pickup census tract or the community area if the census tract has been hidden for privacy.', ()),\n",
              " SchemaField('pickup_location', 'STRING', 'NULLABLE', 'The location of the center of the pickup census tract or the community area if the census tract has been hidden for privacy.', ()),\n",
              " SchemaField('dropoff_latitude', 'FLOAT', 'NULLABLE', 'The latitude of the center of the dropoff census tract or the community area if the census tract has been hidden for privacy.', ()),\n",
              " SchemaField('dropoff_longitude', 'FLOAT', 'NULLABLE', 'The longitude of the center of the dropoff census tract or the community area if the census tract has been hidden for privacy.', ()),\n",
              " SchemaField('dropoff_location', 'STRING', 'NULLABLE', 'The location of the center of the dropoff census tract or the community area if the census tract has been hidden for privacy.', ())]"
            ]
          },
          "metadata": {
            "tags": []
          },
          "execution_count": 9
        }
      ]
    },
    {
      "cell_type": "markdown",
      "metadata": {
        "id": "voMcORAMxrMU"
      },
      "source": [
        "##5. Show your data in a dataframe"
      ]
    },
    {
      "cell_type": "code",
      "metadata": {
        "id": "ojE0uYhbblez",
        "colab": {
          "base_uri": "https://localhost:8080/",
          "height": 360
        },
        "outputId": "669e16fd-c2d0-4b02-db29-44f816eac809"
      },
      "source": [
        "client.list_rows(table, max_results=5).to_dataframe()"
      ],
      "execution_count": null,
      "outputs": [
        {
          "output_type": "execute_result",
          "data": {
            "text/html": [
              "<div>\n",
              "<style scoped>\n",
              "    .dataframe tbody tr th:only-of-type {\n",
              "        vertical-align: middle;\n",
              "    }\n",
              "\n",
              "    .dataframe tbody tr th {\n",
              "        vertical-align: top;\n",
              "    }\n",
              "\n",
              "    .dataframe thead th {\n",
              "        text-align: right;\n",
              "    }\n",
              "</style>\n",
              "<table border=\"1\" class=\"dataframe\">\n",
              "  <thead>\n",
              "    <tr style=\"text-align: right;\">\n",
              "      <th></th>\n",
              "      <th>unique_key</th>\n",
              "      <th>taxi_id</th>\n",
              "      <th>trip_start_timestamp</th>\n",
              "      <th>trip_end_timestamp</th>\n",
              "      <th>trip_seconds</th>\n",
              "      <th>trip_miles</th>\n",
              "      <th>pickup_census_tract</th>\n",
              "      <th>dropoff_census_tract</th>\n",
              "      <th>pickup_community_area</th>\n",
              "      <th>dropoff_community_area</th>\n",
              "      <th>fare</th>\n",
              "      <th>tips</th>\n",
              "      <th>tolls</th>\n",
              "      <th>extras</th>\n",
              "      <th>trip_total</th>\n",
              "      <th>payment_type</th>\n",
              "      <th>company</th>\n",
              "      <th>pickup_latitude</th>\n",
              "      <th>pickup_longitude</th>\n",
              "      <th>pickup_location</th>\n",
              "      <th>dropoff_latitude</th>\n",
              "      <th>dropoff_longitude</th>\n",
              "      <th>dropoff_location</th>\n",
              "    </tr>\n",
              "  </thead>\n",
              "  <tbody>\n",
              "    <tr>\n",
              "      <th>0</th>\n",
              "      <td>2b7543383dcf4eb2d88165f6366bfb162a80c80b</td>\n",
              "      <td>998375e02a53225a78f127e12aef428a79aa7f33ce9212...</td>\n",
              "      <td>2013-12-25 21:15:00+00:00</td>\n",
              "      <td>2013-12-25 21:15:00+00:00</td>\n",
              "      <td>120</td>\n",
              "      <td>0.0</td>\n",
              "      <td>None</td>\n",
              "      <td>None</td>\n",
              "      <td>None</td>\n",
              "      <td>None</td>\n",
              "      <td>4.05</td>\n",
              "      <td>0.0</td>\n",
              "      <td>0.0</td>\n",
              "      <td>5.0</td>\n",
              "      <td>9.05</td>\n",
              "      <td>Cash</td>\n",
              "      <td>Taxi Affiliation Services</td>\n",
              "      <td>None</td>\n",
              "      <td>None</td>\n",
              "      <td>None</td>\n",
              "      <td>None</td>\n",
              "      <td>None</td>\n",
              "      <td>None</td>\n",
              "    </tr>\n",
              "    <tr>\n",
              "      <th>1</th>\n",
              "      <td>6cd77ee8a16f8cec93e325fef7b03da4f969106d</td>\n",
              "      <td>8c508a77909d4e965c01698b799c7b25ab31d609051979...</td>\n",
              "      <td>2019-10-06 11:00:00+00:00</td>\n",
              "      <td>2019-10-06 11:00:00+00:00</td>\n",
              "      <td>240</td>\n",
              "      <td>0.9</td>\n",
              "      <td>None</td>\n",
              "      <td>None</td>\n",
              "      <td>None</td>\n",
              "      <td>None</td>\n",
              "      <td>5.50</td>\n",
              "      <td>2.0</td>\n",
              "      <td>0.0</td>\n",
              "      <td>0.0</td>\n",
              "      <td>7.50</td>\n",
              "      <td>Credit Card</td>\n",
              "      <td>Chicago Independents</td>\n",
              "      <td>None</td>\n",
              "      <td>None</td>\n",
              "      <td>None</td>\n",
              "      <td>None</td>\n",
              "      <td>None</td>\n",
              "      <td>None</td>\n",
              "    </tr>\n",
              "    <tr>\n",
              "      <th>2</th>\n",
              "      <td>6c670f5aa7c9e1a49f33690a12615d3c232e796b</td>\n",
              "      <td>a8078f80a679e11f94f21e3bc8e205025db5e17d1f204c...</td>\n",
              "      <td>2019-10-08 13:00:00+00:00</td>\n",
              "      <td>2019-10-08 13:15:00+00:00</td>\n",
              "      <td>300</td>\n",
              "      <td>1.2</td>\n",
              "      <td>None</td>\n",
              "      <td>None</td>\n",
              "      <td>None</td>\n",
              "      <td>None</td>\n",
              "      <td>6.25</td>\n",
              "      <td>1.0</td>\n",
              "      <td>0.0</td>\n",
              "      <td>0.0</td>\n",
              "      <td>7.25</td>\n",
              "      <td>Credit Card</td>\n",
              "      <td>Taxicab Insurance Agency, LLC</td>\n",
              "      <td>None</td>\n",
              "      <td>None</td>\n",
              "      <td>None</td>\n",
              "      <td>None</td>\n",
              "      <td>None</td>\n",
              "      <td>None</td>\n",
              "    </tr>\n",
              "    <tr>\n",
              "      <th>3</th>\n",
              "      <td>6dec402bbc4010d8725bf53b0fe18bb319289a82</td>\n",
              "      <td>eb108801cfdcab102a686aa0772cbd99b03447a26b8907...</td>\n",
              "      <td>2019-10-09 15:45:00+00:00</td>\n",
              "      <td>2019-10-09 15:45:00+00:00</td>\n",
              "      <td>0</td>\n",
              "      <td>0.0</td>\n",
              "      <td>None</td>\n",
              "      <td>None</td>\n",
              "      <td>None</td>\n",
              "      <td>None</td>\n",
              "      <td>2.00</td>\n",
              "      <td>0.0</td>\n",
              "      <td>0.0</td>\n",
              "      <td>0.0</td>\n",
              "      <td>2.00</td>\n",
              "      <td>Cash</td>\n",
              "      <td>Taxi Affiliation Services</td>\n",
              "      <td>None</td>\n",
              "      <td>None</td>\n",
              "      <td>None</td>\n",
              "      <td>None</td>\n",
              "      <td>None</td>\n",
              "      <td>None</td>\n",
              "    </tr>\n",
              "    <tr>\n",
              "      <th>4</th>\n",
              "      <td>6c00353e69c88989b77a4eabfa9f1004b6a05a33</td>\n",
              "      <td>d95b99518116b5f943d75828e78c02e668ec6add7d28ba...</td>\n",
              "      <td>2019-10-19 06:30:00+00:00</td>\n",
              "      <td>2019-10-19 07:00:00+00:00</td>\n",
              "      <td>1860</td>\n",
              "      <td>14.4</td>\n",
              "      <td>None</td>\n",
              "      <td>None</td>\n",
              "      <td>None</td>\n",
              "      <td>None</td>\n",
              "      <td>38.25</td>\n",
              "      <td>10.0</td>\n",
              "      <td>0.0</td>\n",
              "      <td>0.0</td>\n",
              "      <td>48.25</td>\n",
              "      <td>Credit Card</td>\n",
              "      <td>Choice Taxi Association</td>\n",
              "      <td>None</td>\n",
              "      <td>None</td>\n",
              "      <td>None</td>\n",
              "      <td>None</td>\n",
              "      <td>None</td>\n",
              "      <td>None</td>\n",
              "    </tr>\n",
              "  </tbody>\n",
              "</table>\n",
              "</div>"
            ],
            "text/plain": [
              "                                 unique_key  ... dropoff_location\n",
              "0  2b7543383dcf4eb2d88165f6366bfb162a80c80b  ...             None\n",
              "1  6cd77ee8a16f8cec93e325fef7b03da4f969106d  ...             None\n",
              "2  6c670f5aa7c9e1a49f33690a12615d3c232e796b  ...             None\n",
              "3  6dec402bbc4010d8725bf53b0fe18bb319289a82  ...             None\n",
              "4  6c00353e69c88989b77a4eabfa9f1004b6a05a33  ...             None\n",
              "\n",
              "[5 rows x 23 columns]"
            ]
          },
          "metadata": {
            "tags": []
          },
          "execution_count": 10
        }
      ]
    },
    {
      "cell_type": "code",
      "metadata": {
        "id": "7vsy2nLabxS4"
      },
      "source": [
        ""
      ],
      "execution_count": null,
      "outputs": []
    },
    {
      "cell_type": "markdown",
      "metadata": {
        "id": "pyu2g_hV5u73"
      },
      "source": [
        "##6. Explore your data"
      ]
    },
    {
      "cell_type": "markdown",
      "metadata": {
        "id": "ZisVfcMy5zc3"
      },
      "source": [
        "If the data is sufficiently old, we might be careful before assuming the data is still relevant to traffic patterns today. Write a query that counts the number of trips in each year.\n",
        "\n",
        "Your results should have two columns:\n",
        "\n",
        "* year - the year of the trips\n",
        "* num_trips - the number of trips in that year"
      ]
    },
    {
      "cell_type": "code",
      "metadata": {
        "id": "jF9cteO45yrz",
        "colab": {
          "base_uri": "https://localhost:8080/"
        },
        "outputId": "2aa95091-acdd-4a9e-95ce-323f3a69b561"
      },
      "source": [
        "rides_per_year_query = \"\"\"\n",
        "                          SELECT EXTRACT(YEAR FROM trip_start_timestamp) AS YEAR, \n",
        "                                 COUNT(1) AS num_trips\n",
        "                          FROM\n",
        "                                `bigquery-public-data.chicago_taxi_trips.taxi_trips`\n",
        "                          GROUP BY year\n",
        "                          ORDER BY year ASC\n",
        "                       \"\"\"\n",
        "safe_config = bigquery.QueryJobConfig(maximum_bytes_billed=10**10)\n",
        "rides_per_year_query_job = client.query(rides_per_year_query, job_config=safe_config)\n",
        "\n",
        "rides_per_year_result = rides_per_year_query_job.to_dataframe()\n",
        "\n",
        "print(rides_per_year_result.head())\n"
      ],
      "execution_count": null,
      "outputs": [
        {
          "output_type": "stream",
          "text": [
            "   YEAR  num_trips\n",
            "0  2013   27217716\n",
            "1  2014   37395436\n",
            "2  2015   32385875\n",
            "3  2016   31759339\n",
            "4  2017   24988003\n"
          ],
          "name": "stdout"
        }
      ]
    },
    {
      "cell_type": "markdown",
      "metadata": {
        "id": "3j7vMtxu57no"
      },
      "source": [
        "You'd like to take a closer look at rides from 2017.  Copy the query you used above in `rides_per_year_query` into the cell below for `rides_per_month_query`.  Then modify it in two ways:\n",
        "1. Use a **WHERE** clause to limit the query to data from 2017.\n",
        "2. Modify the query to extract the month rather than the year."
      ]
    },
    {
      "cell_type": "code",
      "metadata": {
        "id": "pQQIH5OU5926",
        "colab": {
          "base_uri": "https://localhost:8080/"
        },
        "outputId": "67cdddf3-a4d5-41c4-cfd5-f6390d95212d"
      },
      "source": [
        "rides_per_month_query = \"\"\"\n",
        "                           SELECT EXTRACT(MONTH FROM trip_start_timestamp) AS month, \n",
        "                                  COUNT(1) AS num_trips\n",
        "                           FROM\n",
        "                                  `bigquery-public-data.chicago_taxi_trips.taxi_trips`\n",
        "                           WHERE EXTRACT(YEAR FROM trip_start_timestamp) = 2017\n",
        "                           GROUP BY month\n",
        "                           ORDER BY month ASC\n",
        "                        \"\"\"\n",
        "safe_config = bigquery.QueryJobConfig(maximum_bytes_billed=10**10)\n",
        "rides_per_month_job = client.query(rides_per_month_query, job_config=safe_config)\n",
        "\n",
        "rides_per_mont_result = rides_per_year_query_job.to_dataframe()\n",
        "\n",
        "print(rides_per_year_result.head())\n"
      ],
      "execution_count": null,
      "outputs": [
        {
          "output_type": "stream",
          "text": [
            "   YEAR  num_trips\n",
            "0  2013   27217716\n",
            "1  2014   37395436\n",
            "2  2015   32385875\n",
            "3  2016   31759339\n",
            "4  2017   24988003\n"
          ],
          "name": "stdout"
        }
      ]
    },
    {
      "cell_type": "code",
      "metadata": {
        "id": "sw6WbghgAbld"
      },
      "source": [
        ""
      ],
      "execution_count": null,
      "outputs": []
    }
  ]
}