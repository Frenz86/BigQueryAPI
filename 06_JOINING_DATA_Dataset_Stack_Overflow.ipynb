{
  "nbformat": 4,
  "nbformat_minor": 0,
  "metadata": {
    "colab": {
      "name": "06 - JOINING DATA - Dataset Stack Overflow.ipynb",
      "provenance": [],
      "authorship_tag": "ABX9TyMtJLuxvugnLumcfKBUBjiG",
      "include_colab_link": true
    },
    "kernelspec": {
      "name": "python3",
      "display_name": "Python 3"
    },
    "language_info": {
      "name": "python"
    }
  },
  "cells": [
    {
      "cell_type": "markdown",
      "metadata": {
        "id": "view-in-github",
        "colab_type": "text"
      },
      "source": [
        "<a href=\"https://colab.research.google.com/github/mtpradoc/BigQueryAPI/blob/main/06_JOINING_DATA_Dataset_Stack_Overflow.ipynb\" target=\"_parent\"><img src=\"https://colab.research.google.com/assets/colab-badge.svg\" alt=\"Open In Colab\"/></a>"
      ]
    },
    {
      "cell_type": "markdown",
      "metadata": {
        "id": "naUMFtS3wRHr"
      },
      "source": [
        "\n",
        "#Programmatically connect to BigQuery"
      ]
    },
    {
      "cell_type": "markdown",
      "metadata": {
        "id": "GbXo5LTqdnCY"
      },
      "source": [
        "In order to use a public dataset in BigQuery we need to programmatically authenticate to the google cloud platform"
      ]
    },
    {
      "cell_type": "markdown",
      "metadata": {
        "id": "HTwOOPvXwcYt"
      },
      "source": [
        "##1. Authenticate to GCP"
      ]
    },
    {
      "cell_type": "code",
      "metadata": {
        "id": "g0EXRSzURaAF"
      },
      "source": [
        "from google.colab import auth\n",
        "auth.authenticate_user()"
      ],
      "execution_count": null,
      "outputs": []
    },
    {
      "cell_type": "markdown",
      "metadata": {
        "id": "1ysOGfateBSa"
      },
      "source": [
        "Let's specify which project_id we are going to use. It can be any"
      ]
    },
    {
      "cell_type": "code",
      "metadata": {
        "id": "AjMekpvoXD0r"
      },
      "source": [
        "project_id = 'hazel-env-310501'"
      ],
      "execution_count": null,
      "outputs": []
    },
    {
      "cell_type": "markdown",
      "metadata": {
        "id": "3QfEKE8hw77L"
      },
      "source": [
        "##2. Connect to the BigQuery API"
      ]
    },
    {
      "cell_type": "code",
      "metadata": {
        "id": "WMEMSjFeU22y"
      },
      "source": [
        "from google.cloud import bigquery"
      ],
      "execution_count": null,
      "outputs": []
    },
    {
      "cell_type": "code",
      "metadata": {
        "id": "2O5UeyQ8R5jr"
      },
      "source": [
        "client = bigquery.Client(project=project_id)"
      ],
      "execution_count": null,
      "outputs": []
    },
    {
      "cell_type": "markdown",
      "metadata": {
        "id": "YRNTMmYYxI6_"
      },
      "source": [
        "##3. Access the Dataset (public or private)"
      ]
    },
    {
      "cell_type": "markdown",
      "metadata": {
        "id": "b1PgmGeedW8X"
      },
      "source": [
        "Let's put a reference for the dataset and project where the dataset we are going to work with"
      ]
    },
    {
      "cell_type": "code",
      "metadata": {
        "id": "kjFYjcZhSF9s"
      },
      "source": [
        "dataset_ref = client.dataset(\"stackoverflow\", project=\"bigquery-public-data\")\n",
        "\n",
        "dataset = client.get_dataset(dataset_ref)"
      ],
      "execution_count": null,
      "outputs": []
    },
    {
      "cell_type": "markdown",
      "metadata": {
        "id": "sGS4czJVxfoe"
      },
      "source": [
        "##4. List your tables"
      ]
    },
    {
      "cell_type": "code",
      "metadata": {
        "id": "wMn4Outta2UV",
        "colab": {
          "base_uri": "https://localhost:8080/"
        },
        "outputId": "a2523b48-3a10-447a-8cca-421fb5454ee0"
      },
      "source": [
        "tables = list(client.list_tables(dataset))\n",
        "list_of_tables = [table.table_id for table in tables]\n",
        "\n",
        "print(list_of_tables)"
      ],
      "execution_count": null,
      "outputs": [
        {
          "output_type": "stream",
          "text": [
            "['badges', 'comments', 'post_history', 'post_links', 'posts_answers', 'posts_moderator_nomination', 'posts_orphaned_tag_wiki', 'posts_privilege_wiki', 'posts_questions', 'posts_tag_wiki', 'posts_tag_wiki_excerpt', 'posts_wiki_placeholder', 'stackoverflow_posts', 'tags', 'users', 'votes']\n"
          ],
          "name": "stdout"
        }
      ]
    },
    {
      "cell_type": "markdown",
      "metadata": {
        "id": "2Px5oFH73JU2"
      },
      "source": [
        "##5. Check table 1"
      ]
    },
    {
      "cell_type": "code",
      "metadata": {
        "id": "xVFRnECKbjNf",
        "colab": {
          "base_uri": "https://localhost:8080/",
          "height": 411
        },
        "outputId": "df3f632d-f0f4-4176-ae00-f5c132ec1bd9"
      },
      "source": [
        "answers_table_ref = dataset_ref.table(\"posts_answers\")\n",
        "\n",
        "answers_table = client.get_table(answers_table_ref)\n",
        "\n",
        "client.list_rows(answers_table, max_results=5).to_dataframe()"
      ],
      "execution_count": null,
      "outputs": [
        {
          "output_type": "execute_result",
          "data": {
            "text/html": [
              "<div>\n",
              "<style scoped>\n",
              "    .dataframe tbody tr th:only-of-type {\n",
              "        vertical-align: middle;\n",
              "    }\n",
              "\n",
              "    .dataframe tbody tr th {\n",
              "        vertical-align: top;\n",
              "    }\n",
              "\n",
              "    .dataframe thead th {\n",
              "        text-align: right;\n",
              "    }\n",
              "</style>\n",
              "<table border=\"1\" class=\"dataframe\">\n",
              "  <thead>\n",
              "    <tr style=\"text-align: right;\">\n",
              "      <th></th>\n",
              "      <th>id</th>\n",
              "      <th>title</th>\n",
              "      <th>body</th>\n",
              "      <th>accepted_answer_id</th>\n",
              "      <th>answer_count</th>\n",
              "      <th>comment_count</th>\n",
              "      <th>community_owned_date</th>\n",
              "      <th>creation_date</th>\n",
              "      <th>favorite_count</th>\n",
              "      <th>last_activity_date</th>\n",
              "      <th>last_edit_date</th>\n",
              "      <th>last_editor_display_name</th>\n",
              "      <th>last_editor_user_id</th>\n",
              "      <th>owner_display_name</th>\n",
              "      <th>owner_user_id</th>\n",
              "      <th>parent_id</th>\n",
              "      <th>post_type_id</th>\n",
              "      <th>score</th>\n",
              "      <th>tags</th>\n",
              "      <th>view_count</th>\n",
              "    </tr>\n",
              "  </thead>\n",
              "  <tbody>\n",
              "    <tr>\n",
              "      <th>0</th>\n",
              "      <td>18431468</td>\n",
              "      <td>None</td>\n",
              "      <td>&lt;p&gt;Maybe you want to consider datatables.edit&lt;...</td>\n",
              "      <td>None</td>\n",
              "      <td>None</td>\n",
              "      <td>0</td>\n",
              "      <td>None</td>\n",
              "      <td>2013-08-25 17:00:18.170000+00:00</td>\n",
              "      <td>None</td>\n",
              "      <td>2013-08-25 17:00:18.170000+00:00</td>\n",
              "      <td>NaT</td>\n",
              "      <td>None</td>\n",
              "      <td>NaN</td>\n",
              "      <td>None</td>\n",
              "      <td>1312094</td>\n",
              "      <td>18418641</td>\n",
              "      <td>2</td>\n",
              "      <td>0</td>\n",
              "      <td>None</td>\n",
              "      <td>None</td>\n",
              "    </tr>\n",
              "    <tr>\n",
              "      <th>1</th>\n",
              "      <td>18431474</td>\n",
              "      <td>None</td>\n",
              "      <td>&lt;p&gt;Changing the 'mydestination' configuration ...</td>\n",
              "      <td>None</td>\n",
              "      <td>None</td>\n",
              "      <td>0</td>\n",
              "      <td>None</td>\n",
              "      <td>2013-08-25 17:01:02.630000+00:00</td>\n",
              "      <td>None</td>\n",
              "      <td>2013-08-25 17:01:02.630000+00:00</td>\n",
              "      <td>NaT</td>\n",
              "      <td>None</td>\n",
              "      <td>NaN</td>\n",
              "      <td>None</td>\n",
              "      <td>976442</td>\n",
              "      <td>18322311</td>\n",
              "      <td>2</td>\n",
              "      <td>0</td>\n",
              "      <td>None</td>\n",
              "      <td>None</td>\n",
              "    </tr>\n",
              "    <tr>\n",
              "      <th>2</th>\n",
              "      <td>18431480</td>\n",
              "      <td>None</td>\n",
              "      <td>&lt;p&gt;You are correct that the error is most like...</td>\n",
              "      <td>None</td>\n",
              "      <td>None</td>\n",
              "      <td>0</td>\n",
              "      <td>None</td>\n",
              "      <td>2013-08-25 17:01:51.043000+00:00</td>\n",
              "      <td>None</td>\n",
              "      <td>2013-08-25 17:10:37.830000+00:00</td>\n",
              "      <td>2013-08-25 17:10:37.830000+00:00</td>\n",
              "      <td>None</td>\n",
              "      <td>2278203.0</td>\n",
              "      <td>None</td>\n",
              "      <td>2278203</td>\n",
              "      <td>18431356</td>\n",
              "      <td>2</td>\n",
              "      <td>0</td>\n",
              "      <td>None</td>\n",
              "      <td>None</td>\n",
              "    </tr>\n",
              "    <tr>\n",
              "      <th>3</th>\n",
              "      <td>18431483</td>\n",
              "      <td>None</td>\n",
              "      <td>&lt;p&gt;&lt;code&gt;FROM&lt;/code&gt; is one of the initial log...</td>\n",
              "      <td>None</td>\n",
              "      <td>None</td>\n",
              "      <td>0</td>\n",
              "      <td>None</td>\n",
              "      <td>2013-08-25 17:02:03.147000+00:00</td>\n",
              "      <td>None</td>\n",
              "      <td>2013-08-25 17:02:03.147000+00:00</td>\n",
              "      <td>NaT</td>\n",
              "      <td>None</td>\n",
              "      <td>NaN</td>\n",
              "      <td>None</td>\n",
              "      <td>1179880</td>\n",
              "      <td>18428303</td>\n",
              "      <td>2</td>\n",
              "      <td>0</td>\n",
              "      <td>None</td>\n",
              "      <td>None</td>\n",
              "    </tr>\n",
              "    <tr>\n",
              "      <th>4</th>\n",
              "      <td>18431496</td>\n",
              "      <td>None</td>\n",
              "      <td>&lt;p&gt;Cassandra will never order your columns in ...</td>\n",
              "      <td>None</td>\n",
              "      <td>None</td>\n",
              "      <td>0</td>\n",
              "      <td>None</td>\n",
              "      <td>2013-08-25 17:03:13.143000+00:00</td>\n",
              "      <td>None</td>\n",
              "      <td>2013-08-25 17:03:13.143000+00:00</td>\n",
              "      <td>NaT</td>\n",
              "      <td>None</td>\n",
              "      <td>NaN</td>\n",
              "      <td>None</td>\n",
              "      <td>1061519</td>\n",
              "      <td>15278659</td>\n",
              "      <td>2</td>\n",
              "      <td>0</td>\n",
              "      <td>None</td>\n",
              "      <td>None</td>\n",
              "    </tr>\n",
              "  </tbody>\n",
              "</table>\n",
              "</div>"
            ],
            "text/plain": [
              "         id title  ...  tags view_count\n",
              "0  18431468  None  ...  None       None\n",
              "1  18431474  None  ...  None       None\n",
              "2  18431480  None  ...  None       None\n",
              "3  18431483  None  ...  None       None\n",
              "4  18431496  None  ...  None       None\n",
              "\n",
              "[5 rows x 20 columns]"
            ]
          },
          "metadata": {
            "tags": []
          },
          "execution_count": 8
        }
      ]
    },
    {
      "cell_type": "markdown",
      "metadata": {
        "id": "voMcORAMxrMU"
      },
      "source": [
        "##5. Check table 2"
      ]
    },
    {
      "cell_type": "code",
      "metadata": {
        "id": "ojE0uYhbblez",
        "colab": {
          "base_uri": "https://localhost:8080/",
          "height": 598
        },
        "outputId": "7188f249-a39f-4653-85d3-1c9c6dec7552"
      },
      "source": [
        "questions_table_ref = dataset_ref.table(\"posts_questions\")\n",
        "\n",
        "questions_table = client.get_table(questions_table_ref)\n",
        "\n",
        "client.list_rows(questions_table, max_results=5).to_dataframe()"
      ],
      "execution_count": null,
      "outputs": [
        {
          "output_type": "execute_result",
          "data": {
            "text/html": [
              "<div>\n",
              "<style scoped>\n",
              "    .dataframe tbody tr th:only-of-type {\n",
              "        vertical-align: middle;\n",
              "    }\n",
              "\n",
              "    .dataframe tbody tr th {\n",
              "        vertical-align: top;\n",
              "    }\n",
              "\n",
              "    .dataframe thead th {\n",
              "        text-align: right;\n",
              "    }\n",
              "</style>\n",
              "<table border=\"1\" class=\"dataframe\">\n",
              "  <thead>\n",
              "    <tr style=\"text-align: right;\">\n",
              "      <th></th>\n",
              "      <th>id</th>\n",
              "      <th>title</th>\n",
              "      <th>body</th>\n",
              "      <th>accepted_answer_id</th>\n",
              "      <th>answer_count</th>\n",
              "      <th>comment_count</th>\n",
              "      <th>community_owned_date</th>\n",
              "      <th>creation_date</th>\n",
              "      <th>favorite_count</th>\n",
              "      <th>last_activity_date</th>\n",
              "      <th>last_edit_date</th>\n",
              "      <th>last_editor_display_name</th>\n",
              "      <th>last_editor_user_id</th>\n",
              "      <th>owner_display_name</th>\n",
              "      <th>owner_user_id</th>\n",
              "      <th>parent_id</th>\n",
              "      <th>post_type_id</th>\n",
              "      <th>score</th>\n",
              "      <th>tags</th>\n",
              "      <th>view_count</th>\n",
              "    </tr>\n",
              "  </thead>\n",
              "  <tbody>\n",
              "    <tr>\n",
              "      <th>0</th>\n",
              "      <td>66138537</td>\n",
              "      <td>DataExplorer with at least two given tags</td>\n",
              "      <td>&lt;p&gt;I would to fetch data from Data Explorer, I...</td>\n",
              "      <td>None</td>\n",
              "      <td>0</td>\n",
              "      <td>0</td>\n",
              "      <td>None</td>\n",
              "      <td>2021-02-10 14:11:57.947000+00:00</td>\n",
              "      <td>None</td>\n",
              "      <td>2021-02-10 14:11:57.947000+00:00</td>\n",
              "      <td>None</td>\n",
              "      <td>None</td>\n",
              "      <td>None</td>\n",
              "      <td>None</td>\n",
              "      <td>8384006</td>\n",
              "      <td>None</td>\n",
              "      <td>1</td>\n",
              "      <td>0</td>\n",
              "      <td>dataexplorer</td>\n",
              "      <td>2</td>\n",
              "    </tr>\n",
              "    <tr>\n",
              "      <th>1</th>\n",
              "      <td>66229417</td>\n",
              "      <td>Using a single object (dataframe) across multi...</td>\n",
              "      <td>&lt;p&gt;I am hosting a server on a private computer...</td>\n",
              "      <td>None</td>\n",
              "      <td>0</td>\n",
              "      <td>0</td>\n",
              "      <td>None</td>\n",
              "      <td>2021-02-16 17:40:44.097000+00:00</td>\n",
              "      <td>None</td>\n",
              "      <td>2021-02-16 17:40:44.097000+00:00</td>\n",
              "      <td>None</td>\n",
              "      <td>None</td>\n",
              "      <td>None</td>\n",
              "      <td>None</td>\n",
              "      <td>12549160</td>\n",
              "      <td>None</td>\n",
              "      <td>1</td>\n",
              "      <td>0</td>\n",
              "      <td>rstudio-server</td>\n",
              "      <td>2</td>\n",
              "    </tr>\n",
              "    <tr>\n",
              "      <th>2</th>\n",
              "      <td>66288134</td>\n",
              "      <td>Can we use rpl and leach routing protocol toge...</td>\n",
              "      <td>&lt;p&gt;as I am new to wsn please can anyone tell m...</td>\n",
              "      <td>None</td>\n",
              "      <td>0</td>\n",
              "      <td>0</td>\n",
              "      <td>None</td>\n",
              "      <td>2021-02-20 04:49:09.760000+00:00</td>\n",
              "      <td>None</td>\n",
              "      <td>2021-02-20 04:49:09.760000+00:00</td>\n",
              "      <td>None</td>\n",
              "      <td>None</td>\n",
              "      <td>None</td>\n",
              "      <td>None</td>\n",
              "      <td>15246800</td>\n",
              "      <td>None</td>\n",
              "      <td>1</td>\n",
              "      <td>-1</td>\n",
              "      <td>routes</td>\n",
              "      <td>2</td>\n",
              "    </tr>\n",
              "    <tr>\n",
              "      <th>3</th>\n",
              "      <td>66293452</td>\n",
              "      <td>How to clone dynamic component with button click?</td>\n",
              "      <td>&lt;p&gt;My client requirement is duplication of exi...</td>\n",
              "      <td>None</td>\n",
              "      <td>0</td>\n",
              "      <td>0</td>\n",
              "      <td>None</td>\n",
              "      <td>2021-02-20 15:43:15.133000+00:00</td>\n",
              "      <td>None</td>\n",
              "      <td>2021-02-20 15:43:15.133000+00:00</td>\n",
              "      <td>None</td>\n",
              "      <td>None</td>\n",
              "      <td>None</td>\n",
              "      <td>None</td>\n",
              "      <td>7822211</td>\n",
              "      <td>None</td>\n",
              "      <td>1</td>\n",
              "      <td>0</td>\n",
              "      <td>angular-dynamic-components</td>\n",
              "      <td>2</td>\n",
              "    </tr>\n",
              "    <tr>\n",
              "      <th>4</th>\n",
              "      <td>66317042</td>\n",
              "      <td>Can Firebase Admin SDK be used in Angular Karm...</td>\n",
              "      <td>&lt;p&gt;I’ve got an Angular CLI app and am testing ...</td>\n",
              "      <td>None</td>\n",
              "      <td>0</td>\n",
              "      <td>0</td>\n",
              "      <td>None</td>\n",
              "      <td>2021-02-22 13:54:54.547000+00:00</td>\n",
              "      <td>None</td>\n",
              "      <td>2021-02-22 13:54:54.547000+00:00</td>\n",
              "      <td>None</td>\n",
              "      <td>None</td>\n",
              "      <td>None</td>\n",
              "      <td>None</td>\n",
              "      <td>183681</td>\n",
              "      <td>None</td>\n",
              "      <td>1</td>\n",
              "      <td>0</td>\n",
              "      <td>angularfire2|angularfire|firebase-admin</td>\n",
              "      <td>2</td>\n",
              "    </tr>\n",
              "  </tbody>\n",
              "</table>\n",
              "</div>"
            ],
            "text/plain": [
              "         id  ... view_count\n",
              "0  66138537  ...          2\n",
              "1  66229417  ...          2\n",
              "2  66288134  ...          2\n",
              "3  66293452  ...          2\n",
              "4  66317042  ...          2\n",
              "\n",
              "[5 rows x 20 columns]"
            ]
          },
          "metadata": {
            "tags": []
          },
          "execution_count": 9
        }
      ]
    },
    {
      "cell_type": "markdown",
      "metadata": {
        "id": "pyu2g_hV5u73"
      },
      "source": [
        "##6. Explore your data"
      ]
    },
    {
      "cell_type": "markdown",
      "metadata": {
        "id": "ZisVfcMy5zc3"
      },
      "source": [
        "Something to have into account:\n",
        "\n",
        "**posts_answers** has a column called **parent_id** which identifies the ID of the question each answer is responding to. **posts_answers** also has an **owner_user_id** column which specifies the ID of the user who answered the question.\n",
        "\n",
        " Write a query that selects the `id`, `title` and `owner_user_id` columns from the `posts_questions` table. \n",
        "- Restrict the results to rows that contain the word \"bigquery\" in the `tags` column. \n",
        "- Include rows where there is other text in addition to the word \"bigquery\" (e.g., if a row has a tag \"bigquery-sql\", your results should include that too)."
      ]
    },
    {
      "cell_type": "code",
      "metadata": {
        "id": "jF9cteO45yrz",
        "colab": {
          "base_uri": "https://localhost:8080/"
        },
        "outputId": "acbe57fe-a76f-48bc-bf21-3a08fa922cb6"
      },
      "source": [
        "questions_query = \"\"\"\n",
        "                  SELECT id, title, owner_user_id\n",
        "                  FROM `bigquery-public-data.stackoverflow.posts_questions`\n",
        "                  WHERE tags LIKE '%bigquery%'\n",
        "                  \"\"\"\n",
        "safe_config = bigquery.QueryJobConfig(maximum_bytes_billed=10**10)\n",
        "questions_query_job = client.query(questions_query, job_config=safe_config)\n",
        "\n",
        "questions_results = questions_query_job.to_dataframe()\n",
        "\n",
        "print(questions_results.head())"
      ],
      "execution_count": null,
      "outputs": [
        {
          "output_type": "stream",
          "text": [
            "         id                                              title  owner_user_id\n",
            "0  66318205  BigQuery Search Ads 360 Data Transfer Service ...     15260531.0\n",
            "1  66406056             Issue in running plx query in BigQuery     14860880.0\n",
            "2  66382971  Need to pass Bigquery Array of Struct paramete...      3020641.0\n",
            "3  66201127                   Bigquery SPLIT() and get Nth row      4774960.0\n",
            "4  66369621  Facing NoSuchMethodError for HttpRequest setRe...      8017771.0\n"
          ],
          "name": "stdout"
        }
      ]
    },
    {
      "cell_type": "code",
      "metadata": {
        "id": "87NuKcZKYwbg"
      },
      "source": [
        ""
      ],
      "execution_count": null,
      "outputs": []
    },
    {
      "cell_type": "markdown",
      "metadata": {
        "id": "3j7vMtxu57no"
      },
      "source": [
        "Write a query that returns the `id`, `body` and `owner_user_id` columns from the `posts_answers` table for answers to \"bigquery\"-related questions. \n",
        "- You should have one row in your results for each answer to a question that has \"bigquery\" in the tags.  \n",
        "- Remember you can get the tags for a question from the `tags` column in the `posts_questions` table.\n"
      ]
    },
    {
      "cell_type": "code",
      "metadata": {
        "id": "pQQIH5OU5926",
        "colab": {
          "base_uri": "https://localhost:8080/"
        },
        "outputId": "120e0e26-198a-41ec-d9e9-7e882b89b24c"
      },
      "source": [
        "answers_query = \"\"\"\n",
        "                SELECT pa.id, pa.body, pa.owner_user_id\n",
        "                FROM `bigquery-public-data.stackoverflow.posts_questions` AS pq\n",
        "                  INNER JOIN\n",
        "                  `bigquery-public-data.stackoverflow.posts_answers` AS pa\n",
        "                  ON pa.parent_id=pq.id\n",
        "                WHERE pq.tags LIKE '%bigquery%'\n",
        "                \"\"\"\n",
        "safe_config = bigquery.QueryJobConfig(maximum_bytes_billed=26*(1024**3))\n",
        "answers_query_job = client.query(answers_query, job_config=safe_config)\n",
        "\n",
        "answers_results = answers_query_job.to_dataframe()\n",
        "\n",
        "print(answers_results.head())\n",
        "                "
      ],
      "execution_count": null,
      "outputs": [
        {
          "output_type": "stream",
          "text": [
            "         id                                               body  owner_user_id\n",
            "0  29950217  <p>The public data are hosted within the US. F...      2989846.0\n",
            "1  30019547  <p>You can use the REST API to create or updat...      3953357.0\n",
            "2  30065665  <p>Copying all the project settings and auth s...      4868543.0\n",
            "3  30125328  <p>Google has recently released a (BETA) featu...       346561.0\n",
            "4  30167746  <p>Looking into the <a href=\"https://cloud.goo...      2417948.0\n"
          ],
          "name": "stdout"
        }
      ]
    },
    {
      "cell_type": "code",
      "metadata": {
        "id": "sw6WbghgAbld"
      },
      "source": [
        ""
      ],
      "execution_count": null,
      "outputs": []
    },
    {
      "cell_type": "markdown",
      "metadata": {
        "id": "nLqgQ6laY9B4"
      },
      "source": [
        "You have the merge you need. But you want a list of users who have answered many questions... which requires more work beyond your previous result.\n",
        "\n",
        "Write a new query that has a single row for each user who answered at least one question with a tag that includes the string \"bigquery\". Your results should have two columns:\n",
        "\n",
        "user_id - contains the owner_user_id column from the posts_answers table\n",
        "number_of_answers - contains the number of answers the user has written to \"bigquery\"-related questions"
      ]
    },
    {
      "cell_type": "code",
      "metadata": {
        "colab": {
          "base_uri": "https://localhost:8080/"
        },
        "id": "lFgjChHsY9n2",
        "outputId": "f6d9caf8-9385-4a99-ab75-a9674fbf53b0"
      },
      "source": [
        "bigquery_experts_query = \"\"\"\n",
        "                         SELECT pa.owner_user_id AS user_id,\n",
        "                                COUNT(1) AS number_of_answers\n",
        "                         FROM\n",
        "                                `bigquery-public-data.stackoverflow.posts_answers` AS pa\n",
        "                                INNER JOIN\n",
        "                                `bigquery-public-data.stackoverflow.posts_questions` AS pq\n",
        "                                ON pa.parent_id=pq.id\n",
        "                         WHERE pq.tags LIKE '%bigquery%'\n",
        "                         GROUP BY user_id\n",
        "                         \"\"\"\n",
        "safe_config = bigquery.QueryJobConfig(maximum_bytes_billed=10**10)\n",
        "bigquery_experts_query_job = client.query(bigquery_experts_query, job_config=safe_config)\n",
        "\n",
        "bigquery_experts_results = bigquery_experts_query_job.to_dataframe()\n",
        "\n",
        "print(bigquery_experts_results.head())"
      ],
      "execution_count": null,
      "outputs": [
        {
          "output_type": "stream",
          "text": [
            "     user_id  number_of_answers\n",
            "0  8974140.0                 30\n",
            "1  9132848.0                  4\n",
            "2   101923.0                 43\n",
            "3   769065.0                  1\n",
            "4  9192468.0                  2\n"
          ],
          "name": "stdout"
        }
      ]
    },
    {
      "cell_type": "code",
      "metadata": {
        "id": "dsu1rfG8Y_6J"
      },
      "source": [
        ""
      ],
      "execution_count": null,
      "outputs": []
    },
    {
      "cell_type": "markdown",
      "metadata": {
        "id": "cQmWVc4nZAZc"
      },
      "source": [
        "#7.Build a General Python Function"
      ]
    },
    {
      "cell_type": "markdown",
      "metadata": {
        "id": "nO3hT9tMZap4"
      },
      "source": [
        "Convert what you've done to a general function a website could call on the backend to get experts on any topic"
      ]
    },
    {
      "cell_type": "code",
      "metadata": {
        "id": "mAzqTCMSZY0V"
      },
      "source": [
        "def expert_finder(topic,client):\n",
        "    '''\n",
        "    Returns a Dataframe with the user IDs who have written Stack Overflow answers on a topic.\n",
        "    \n",
        "    Inputs:\n",
        "      topic: A string with the topic of interest\n",
        "      client: A Client object that specified the connection to the Stack Overflow dataset\n",
        "    \n",
        "    Outputs:\n",
        "      results: A Dataframe with columns for user_id and number_of_answers. Follows similar logic to bigquery_experts results shown above.\n",
        "    '''\n",
        "    my_query = \"\"\"\n",
        "               SELECT pa.owner_user_id AS user_id,\n",
        "                      COUNT(1) AS number_of_answers\n",
        "               FROM\n",
        "                      `bigquery-public-data.stackoverflow.posts_questions` AS pq\n",
        "                      INNER JOIN\n",
        "                      `bigquery-public-data.stackoverflow.posts_answers` AS pa\n",
        "                      ON pq.id = pa.parent_id\n",
        "               WHERE pq.tags LIKE '%\"\"\"+topic+\"\"\"%'\n",
        "               GROUP BY pa.owner_user_id\n",
        "               \"\"\"\n",
        "    safe_config = bigquery.QueryJobConfig(maximum_bytes_billed=10**10)\n",
        "    my_query_job = client.query(my_query,job_config=safe_config)\n",
        "\n",
        "    results = my_query_job.to_dataframe()\n",
        "\n",
        "    return results"
      ],
      "execution_count": null,
      "outputs": []
    },
    {
      "cell_type": "code",
      "metadata": {
        "colab": {
          "base_uri": "https://localhost:8080/",
          "height": 419
        },
        "id": "wLV1uMnNlMUf",
        "outputId": "66647cb5-2881-4e76-939d-c6f5175f3b23"
      },
      "source": [
        "expert_finder(\"bigquery\", client)"
      ],
      "execution_count": null,
      "outputs": [
        {
          "output_type": "execute_result",
          "data": {
            "text/html": [
              "<div>\n",
              "<style scoped>\n",
              "    .dataframe tbody tr th:only-of-type {\n",
              "        vertical-align: middle;\n",
              "    }\n",
              "\n",
              "    .dataframe tbody tr th {\n",
              "        vertical-align: top;\n",
              "    }\n",
              "\n",
              "    .dataframe thead th {\n",
              "        text-align: right;\n",
              "    }\n",
              "</style>\n",
              "<table border=\"1\" class=\"dataframe\">\n",
              "  <thead>\n",
              "    <tr style=\"text-align: right;\">\n",
              "      <th></th>\n",
              "      <th>user_id</th>\n",
              "      <th>number_of_answers</th>\n",
              "    </tr>\n",
              "  </thead>\n",
              "  <tbody>\n",
              "    <tr>\n",
              "      <th>0</th>\n",
              "      <td>9779432.0</td>\n",
              "      <td>2</td>\n",
              "    </tr>\n",
              "    <tr>\n",
              "      <th>1</th>\n",
              "      <td>9036351.0</td>\n",
              "      <td>12</td>\n",
              "    </tr>\n",
              "    <tr>\n",
              "      <th>2</th>\n",
              "      <td>1489563.0</td>\n",
              "      <td>1</td>\n",
              "    </tr>\n",
              "    <tr>\n",
              "      <th>3</th>\n",
              "      <td>179750.0</td>\n",
              "      <td>1</td>\n",
              "    </tr>\n",
              "    <tr>\n",
              "      <th>4</th>\n",
              "      <td>8291949.0</td>\n",
              "      <td>3</td>\n",
              "    </tr>\n",
              "    <tr>\n",
              "      <th>...</th>\n",
              "      <td>...</td>\n",
              "      <td>...</td>\n",
              "    </tr>\n",
              "    <tr>\n",
              "      <th>4532</th>\n",
              "      <td>3486763.0</td>\n",
              "      <td>1</td>\n",
              "    </tr>\n",
              "    <tr>\n",
              "      <th>4533</th>\n",
              "      <td>915022.0</td>\n",
              "      <td>1</td>\n",
              "    </tr>\n",
              "    <tr>\n",
              "      <th>4534</th>\n",
              "      <td>994308.0</td>\n",
              "      <td>2</td>\n",
              "    </tr>\n",
              "    <tr>\n",
              "      <th>4535</th>\n",
              "      <td>3245368.0</td>\n",
              "      <td>1</td>\n",
              "    </tr>\n",
              "    <tr>\n",
              "      <th>4536</th>\n",
              "      <td>9261416.0</td>\n",
              "      <td>1</td>\n",
              "    </tr>\n",
              "  </tbody>\n",
              "</table>\n",
              "<p>4537 rows × 2 columns</p>\n",
              "</div>"
            ],
            "text/plain": [
              "        user_id  number_of_answers\n",
              "0     9779432.0                  2\n",
              "1     9036351.0                 12\n",
              "2     1489563.0                  1\n",
              "3      179750.0                  1\n",
              "4     8291949.0                  3\n",
              "...         ...                ...\n",
              "4532  3486763.0                  1\n",
              "4533   915022.0                  1\n",
              "4534   994308.0                  2\n",
              "4535  3245368.0                  1\n",
              "4536  9261416.0                  1\n",
              "\n",
              "[4537 rows x 2 columns]"
            ]
          },
          "metadata": {
            "tags": []
          },
          "execution_count": 18
        }
      ]
    },
    {
      "cell_type": "code",
      "metadata": {
        "id": "eGKGtyl1lyu1"
      },
      "source": [
        ""
      ],
      "execution_count": null,
      "outputs": []
    }
  ]
}