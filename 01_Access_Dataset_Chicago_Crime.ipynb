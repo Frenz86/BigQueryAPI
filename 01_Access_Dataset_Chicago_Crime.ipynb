{
  "nbformat": 4,
  "nbformat_minor": 0,
  "metadata": {
    "colab": {
      "name": "01. Access - Dataset Chicago Crime.ipynb",
      "provenance": [],
      "authorship_tag": "ABX9TyOLGZqYiK1D7GOxMseD63rE",
      "include_colab_link": true
    },
    "kernelspec": {
      "name": "python3",
      "display_name": "Python 3"
    },
    "language_info": {
      "name": "python"
    }
  },
  "cells": [
    {
      "cell_type": "markdown",
      "metadata": {
        "id": "view-in-github",
        "colab_type": "text"
      },
      "source": [
        "<a href=\"https://colab.research.google.com/github/mtpradoc/BigQueryAPI/blob/main/01_Access_Dataset_Chicago_Crime.ipynb\" target=\"_parent\"><img src=\"https://colab.research.google.com/assets/colab-badge.svg\" alt=\"Open In Colab\"/></a>"
      ]
    },
    {
      "cell_type": "markdown",
      "metadata": {
        "id": "naUMFtS3wRHr"
      },
      "source": [
        "\n",
        "#Programmatically connect to BigQuery"
      ]
    },
    {
      "cell_type": "markdown",
      "metadata": {
        "id": "GbXo5LTqdnCY"
      },
      "source": [
        "In order to use a public dataset chicago_crime in BigQuery we need to programmatically authenticate to the google cloud platform"
      ]
    },
    {
      "cell_type": "markdown",
      "metadata": {
        "id": "HTwOOPvXwcYt"
      },
      "source": [
        "##1. Authenticate to GCP"
      ]
    },
    {
      "cell_type": "code",
      "metadata": {
        "id": "g0EXRSzURaAF"
      },
      "source": [
        "from google.colab import auth\n",
        "auth.authenticate_user()"
      ],
      "execution_count": null,
      "outputs": []
    },
    {
      "cell_type": "markdown",
      "metadata": {
        "id": "1ysOGfateBSa"
      },
      "source": [
        "Let's specify which project_id we are going to use. It can be any"
      ]
    },
    {
      "cell_type": "code",
      "metadata": {
        "id": "AjMekpvoXD0r"
      },
      "source": [
        "project_id = 'hazel-env-310501'"
      ],
      "execution_count": null,
      "outputs": []
    },
    {
      "cell_type": "markdown",
      "metadata": {
        "id": "3QfEKE8hw77L"
      },
      "source": [
        "##2. Connect to the BigQuery API"
      ]
    },
    {
      "cell_type": "code",
      "metadata": {
        "id": "WMEMSjFeU22y"
      },
      "source": [
        "from google.cloud import bigquery"
      ],
      "execution_count": null,
      "outputs": []
    },
    {
      "cell_type": "code",
      "metadata": {
        "id": "2O5UeyQ8R5jr"
      },
      "source": [
        "client = bigquery.Client(project=project_id)"
      ],
      "execution_count": null,
      "outputs": []
    },
    {
      "cell_type": "markdown",
      "metadata": {
        "id": "YRNTMmYYxI6_"
      },
      "source": [
        "##3. Access the Dataset (public or private)"
      ]
    },
    {
      "cell_type": "markdown",
      "metadata": {
        "id": "b1PgmGeedW8X"
      },
      "source": [
        "Let's put a reference for the dataset and project where the dataset we are going to work with"
      ]
    },
    {
      "cell_type": "code",
      "metadata": {
        "id": "kjFYjcZhSF9s"
      },
      "source": [
        "dataset_ref = client.dataset(\"chicago_crime\", project=\"bigquery-public-data\")\n",
        "\n",
        "dataset = client.get_dataset(dataset_ref)"
      ],
      "execution_count": null,
      "outputs": []
    },
    {
      "cell_type": "markdown",
      "metadata": {
        "id": "sGS4czJVxfoe"
      },
      "source": [
        "##4. List your tables"
      ]
    },
    {
      "cell_type": "code",
      "metadata": {
        "colab": {
          "base_uri": "https://localhost:8080/"
        },
        "id": "wMn4Outta2UV",
        "outputId": "49d2e222-70cc-4595-b532-64354914706b"
      },
      "source": [
        "tables = list(client.list_tables(dataset))\n",
        "\n",
        "for table in tables:\n",
        "  print(table.table_id)"
      ],
      "execution_count": null,
      "outputs": [
        {
          "output_type": "stream",
          "text": [
            "crime\n"
          ],
          "name": "stdout"
        }
      ]
    },
    {
      "cell_type": "code",
      "metadata": {
        "id": "YSa0312lbT9q"
      },
      "source": [
        ""
      ],
      "execution_count": null,
      "outputs": []
    },
    {
      "cell_type": "markdown",
      "metadata": {
        "id": "2Px5oFH73JU2"
      },
      "source": [
        "##5. Check the table schema"
      ]
    },
    {
      "cell_type": "code",
      "metadata": {
        "colab": {
          "base_uri": "https://localhost:8080/"
        },
        "id": "xVFRnECKbjNf",
        "outputId": "c2267c7f-741d-460a-89ec-e8d55b12309e"
      },
      "source": [
        "table_ref = dataset_ref.table(\"crime\")\n",
        "\n",
        "table = client.get_table(table_ref)\n",
        "\n",
        "table.schema"
      ],
      "execution_count": null,
      "outputs": [
        {
          "output_type": "execute_result",
          "data": {
            "text/plain": [
              "[SchemaField('unique_key', 'INTEGER', 'REQUIRED', 'Unique identifier for the record.', ()),\n",
              " SchemaField('case_number', 'STRING', 'NULLABLE', 'The Chicago Police Department RD Number (Records Division Number), which is unique to the incident.', ()),\n",
              " SchemaField('date', 'TIMESTAMP', 'NULLABLE', 'Date when the incident occurred. this is sometimes a best estimate.', ()),\n",
              " SchemaField('block', 'STRING', 'NULLABLE', 'The partially redacted address where the incident occurred, placing it on the same block as the actual address.', ()),\n",
              " SchemaField('iucr', 'STRING', 'NULLABLE', 'The Illinois Unifrom Crime Reporting code. This is directly linked to the Primary Type and Description. See the list of IUCR codes at https://data.cityofchicago.org/d/c7ck-438e.', ()),\n",
              " SchemaField('primary_type', 'STRING', 'NULLABLE', 'The primary description of the IUCR code.', ()),\n",
              " SchemaField('description', 'STRING', 'NULLABLE', 'The secondary description of the IUCR code, a subcategory of the primary description.', ()),\n",
              " SchemaField('location_description', 'STRING', 'NULLABLE', 'Description of the location where the incident occurred.', ()),\n",
              " SchemaField('arrest', 'BOOLEAN', 'NULLABLE', 'Indicates whether an arrest was made.', ()),\n",
              " SchemaField('domestic', 'BOOLEAN', 'NULLABLE', 'Indicates whether the incident was domestic-related as defined by the Illinois Domestic Violence Act.', ()),\n",
              " SchemaField('beat', 'INTEGER', 'NULLABLE', 'Indicates the beat where the incident occurred. A beat is the smallest police geographic area – each beat has a dedicated police beat car. Three to five beats make up a police sector, and three sectors make up a police district. The Chicago Police Department has 22 police districts. See the beats at https://data.cityofchicago.org/d/aerh-rz74.', ()),\n",
              " SchemaField('district', 'INTEGER', 'NULLABLE', 'Indicates the police district where the incident occurred. See the districts at https://data.cityofchicago.org/d/fthy-xz3r.', ()),\n",
              " SchemaField('ward', 'INTEGER', 'NULLABLE', 'The ward (City Council district) where the incident occurred. See the wards at https://data.cityofchicago.org/d/sp34-6z76.', ()),\n",
              " SchemaField('community_area', 'INTEGER', 'NULLABLE', 'Indicates the community area where the incident occurred. Chicago has 77 community areas. See the community areas at https://data.cityofchicago.org/d/cauq-8yn6.', ()),\n",
              " SchemaField('fbi_code', 'STRING', 'NULLABLE', \"Indicates the crime classification as outlined in the FBI's National Incident-Based Reporting System (NIBRS). See the Chicago Police Department listing of these classifications at http://gis.chicagopolice.org/clearmap_crime_sums/crime_types.html.\", ()),\n",
              " SchemaField('x_coordinate', 'FLOAT', 'NULLABLE', 'The x coordinate of the location where the incident occurred in State Plane Illinois East NAD 1983 projection. This location is shifted from the actual location for partial redaction but falls on the same block.', ()),\n",
              " SchemaField('y_coordinate', 'FLOAT', 'NULLABLE', 'The y coordinate of the location where the incident occurred in State Plane Illinois East NAD 1983 projection. This location is shifted from the actual location for partial redaction but falls on the same block.', ()),\n",
              " SchemaField('year', 'INTEGER', 'NULLABLE', 'Year the incident occurred.', ()),\n",
              " SchemaField('updated_on', 'TIMESTAMP', 'NULLABLE', 'Date and time the record was last updated.', ()),\n",
              " SchemaField('latitude', 'FLOAT', 'NULLABLE', 'The latitude of the location where the incident occurred. This location is shifted from the actual location for partial redaction but falls on the same block.', ()),\n",
              " SchemaField('longitude', 'FLOAT', 'NULLABLE', 'The longitude of the location where the incident occurred. This location is shifted from the actual location for partial redaction but falls on the same block.', ()),\n",
              " SchemaField('location', 'STRING', 'NULLABLE', 'The location where the incident occurred in a format that allows for creation of maps and other geographic operations on this data portal. This location is shifted from the actual location for partial redaction but falls on the same block.', ())]"
            ]
          },
          "metadata": {
            "tags": []
          },
          "execution_count": 7
        }
      ]
    },
    {
      "cell_type": "markdown",
      "metadata": {
        "id": "voMcORAMxrMU"
      },
      "source": [
        "##5. Show your data in a dataframe"
      ]
    },
    {
      "cell_type": "code",
      "metadata": {
        "colab": {
          "base_uri": "https://localhost:8080/",
          "height": 428
        },
        "id": "ojE0uYhbblez",
        "outputId": "d5abf5b3-3750-4e71-90e2-f99d82dd9d03"
      },
      "source": [
        "client.list_rows(table, max_results=5).to_dataframe()"
      ],
      "execution_count": null,
      "outputs": [
        {
          "output_type": "execute_result",
          "data": {
            "text/html": [
              "<div>\n",
              "<style scoped>\n",
              "    .dataframe tbody tr th:only-of-type {\n",
              "        vertical-align: middle;\n",
              "    }\n",
              "\n",
              "    .dataframe tbody tr th {\n",
              "        vertical-align: top;\n",
              "    }\n",
              "\n",
              "    .dataframe thead th {\n",
              "        text-align: right;\n",
              "    }\n",
              "</style>\n",
              "<table border=\"1\" class=\"dataframe\">\n",
              "  <thead>\n",
              "    <tr style=\"text-align: right;\">\n",
              "      <th></th>\n",
              "      <th>unique_key</th>\n",
              "      <th>case_number</th>\n",
              "      <th>date</th>\n",
              "      <th>block</th>\n",
              "      <th>iucr</th>\n",
              "      <th>primary_type</th>\n",
              "      <th>description</th>\n",
              "      <th>location_description</th>\n",
              "      <th>arrest</th>\n",
              "      <th>domestic</th>\n",
              "      <th>beat</th>\n",
              "      <th>district</th>\n",
              "      <th>ward</th>\n",
              "      <th>community_area</th>\n",
              "      <th>fbi_code</th>\n",
              "      <th>x_coordinate</th>\n",
              "      <th>y_coordinate</th>\n",
              "      <th>year</th>\n",
              "      <th>updated_on</th>\n",
              "      <th>latitude</th>\n",
              "      <th>longitude</th>\n",
              "      <th>location</th>\n",
              "    </tr>\n",
              "  </thead>\n",
              "  <tbody>\n",
              "    <tr>\n",
              "      <th>0</th>\n",
              "      <td>10242001</td>\n",
              "      <td>HY429939</td>\n",
              "      <td>2015-09-17 07:00:00+00:00</td>\n",
              "      <td>047XX S TRIPP AVE</td>\n",
              "      <td>0281</td>\n",
              "      <td>CRIM SEXUAL ASSAULT</td>\n",
              "      <td>NON-AGGRAVATED</td>\n",
              "      <td>RESIDENCE</td>\n",
              "      <td>False</td>\n",
              "      <td>True</td>\n",
              "      <td>815</td>\n",
              "      <td>8</td>\n",
              "      <td>23</td>\n",
              "      <td>57</td>\n",
              "      <td>02</td>\n",
              "      <td>1148826.0</td>\n",
              "      <td>1872826.0</td>\n",
              "      <td>2015</td>\n",
              "      <td>2018-02-10 15:50:01+00:00</td>\n",
              "      <td>41.806964</td>\n",
              "      <td>-87.729680</td>\n",
              "      <td>(41.806963841, -87.729679931)</td>\n",
              "    </tr>\n",
              "    <tr>\n",
              "      <th>1</th>\n",
              "      <td>10283179</td>\n",
              "      <td>HY471276</td>\n",
              "      <td>2015-10-21 17:30:00+00:00</td>\n",
              "      <td>054XX S KILDARE AVE</td>\n",
              "      <td>1780</td>\n",
              "      <td>OFFENSE INVOLVING CHILDREN</td>\n",
              "      <td>OTHER OFFENSE</td>\n",
              "      <td>APARTMENT</td>\n",
              "      <td>False</td>\n",
              "      <td>True</td>\n",
              "      <td>815</td>\n",
              "      <td>8</td>\n",
              "      <td>23</td>\n",
              "      <td>62</td>\n",
              "      <td>26</td>\n",
              "      <td>1148624.0</td>\n",
              "      <td>1868152.0</td>\n",
              "      <td>2015</td>\n",
              "      <td>2018-02-10 15:50:01+00:00</td>\n",
              "      <td>41.794142</td>\n",
              "      <td>-87.730541</td>\n",
              "      <td>(41.794141567, -87.730541033)</td>\n",
              "    </tr>\n",
              "    <tr>\n",
              "      <th>2</th>\n",
              "      <td>10318801</td>\n",
              "      <td>HY507527</td>\n",
              "      <td>2015-11-17 12:00:00+00:00</td>\n",
              "      <td>076XX W GREGORY ST</td>\n",
              "      <td>1156</td>\n",
              "      <td>DECEPTIVE PRACTICE</td>\n",
              "      <td>ATTEMPT - FINANCIAL IDENTITY THEFT</td>\n",
              "      <td>RESIDENCE</td>\n",
              "      <td>False</td>\n",
              "      <td>False</td>\n",
              "      <td>1613</td>\n",
              "      <td>16</td>\n",
              "      <td>41</td>\n",
              "      <td>10</td>\n",
              "      <td>11</td>\n",
              "      <td>1124316.0</td>\n",
              "      <td>1935943.0</td>\n",
              "      <td>2015</td>\n",
              "      <td>2018-02-10 15:50:01+00:00</td>\n",
              "      <td>41.980603</td>\n",
              "      <td>-87.818187</td>\n",
              "      <td>(41.980603481, -87.818187207)</td>\n",
              "    </tr>\n",
              "    <tr>\n",
              "      <th>3</th>\n",
              "      <td>12240125</td>\n",
              "      <td>JD451356</td>\n",
              "      <td>2020-11-25 11:29:00+00:00</td>\n",
              "      <td>023XX N NEWCASTLE AVE</td>\n",
              "      <td>1754</td>\n",
              "      <td>OFFENSE INVOLVING CHILDREN</td>\n",
              "      <td>AGGRAVATED SEXUAL ASSAULT OF CHILD BY FAMILY M...</td>\n",
              "      <td>RESIDENCE</td>\n",
              "      <td>False</td>\n",
              "      <td>True</td>\n",
              "      <td>2512</td>\n",
              "      <td>25</td>\n",
              "      <td>36</td>\n",
              "      <td>18</td>\n",
              "      <td>02</td>\n",
              "      <td>1130195.0</td>\n",
              "      <td>1914921.0</td>\n",
              "      <td>2020</td>\n",
              "      <td>2020-12-18 15:48:35+00:00</td>\n",
              "      <td>41.922818</td>\n",
              "      <td>-87.797050</td>\n",
              "      <td>(41.922817722, -87.797049614)</td>\n",
              "    </tr>\n",
              "    <tr>\n",
              "      <th>4</th>\n",
              "      <td>10156854</td>\n",
              "      <td>HY345956</td>\n",
              "      <td>2015-07-18 16:16:00+00:00</td>\n",
              "      <td>016XX E 87TH ST</td>\n",
              "      <td>2900</td>\n",
              "      <td>WEAPONS VIOLATION</td>\n",
              "      <td>UNLAWFUL USE/SALE AIR RIFLE</td>\n",
              "      <td>STREET</td>\n",
              "      <td>True</td>\n",
              "      <td>False</td>\n",
              "      <td>412</td>\n",
              "      <td>4</td>\n",
              "      <td>8</td>\n",
              "      <td>45</td>\n",
              "      <td>15</td>\n",
              "      <td>1188645.0</td>\n",
              "      <td>1847618.0</td>\n",
              "      <td>2015</td>\n",
              "      <td>2018-02-10 15:50:01+00:00</td>\n",
              "      <td>41.736931</td>\n",
              "      <td>-87.584443</td>\n",
              "      <td>(41.736930711, -87.584442512)</td>\n",
              "    </tr>\n",
              "  </tbody>\n",
              "</table>\n",
              "</div>"
            ],
            "text/plain": [
              "   unique_key case_number  ...  longitude                       location\n",
              "0    10242001    HY429939  ... -87.729680  (41.806963841, -87.729679931)\n",
              "1    10283179    HY471276  ... -87.730541  (41.794141567, -87.730541033)\n",
              "2    10318801    HY507527  ... -87.818187  (41.980603481, -87.818187207)\n",
              "3    12240125    JD451356  ... -87.797050  (41.922817722, -87.797049614)\n",
              "4    10156854    HY345956  ... -87.584443  (41.736930711, -87.584442512)\n",
              "\n",
              "[5 rows x 22 columns]"
            ]
          },
          "metadata": {
            "tags": []
          },
          "execution_count": 8
        }
      ]
    },
    {
      "cell_type": "code",
      "metadata": {
        "id": "7vsy2nLabxS4"
      },
      "source": [
        ""
      ],
      "execution_count": null,
      "outputs": []
    }
  ]
}